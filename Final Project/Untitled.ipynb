{
 "cells": [
  {
   "cell_type": "code",
   "execution_count": 1,
   "id": "bee78fca",
   "metadata": {},
   "outputs": [],
   "source": [
    "import pandas as pd\n",
    "import numpy as np\n",
    "import datetime\n",
    "from sklearn.preprocessing import StandardScaler, PolynomialFeatures \n",
    "from sklearn.impute import KNNImputer\n",
    "from sklearn.decomposition import PCA\n",
    "from sklearn.cross_decomposition import PLSRegression\n",
    "from sklearn.model_selection import RepeatedKFold\n",
    "from sklearn.linear_model import LinearRegression,LogisticRegression, Lasso, Ridge, BayesianRidge,ElasticNet"
   ]
  },
  {
   "cell_type": "code",
   "execution_count": 35,
   "id": "bd4c017e",
   "metadata": {},
   "outputs": [
    {
     "ename": "ValueError",
     "evalue": "The value of index_col couldn't be 'True'",
     "output_type": "error",
     "traceback": [
      "\u001b[0;31m---------------------------------------------------------------------------\u001b[0m",
      "\u001b[0;31mValueError\u001b[0m                                Traceback (most recent call last)",
      "\u001b[0;32m<ipython-input-35-f538f8a3bcb4>\u001b[0m in \u001b[0;36m<module>\u001b[0;34m\u001b[0m\n\u001b[0;32m----> 1\u001b[0;31m \u001b[0mdf_train\u001b[0m \u001b[0;34m=\u001b[0m \u001b[0mpd\u001b[0m\u001b[0;34m.\u001b[0m\u001b[0mread_csv\u001b[0m\u001b[0;34m(\u001b[0m\u001b[0;34m'TRAIN.csv'\u001b[0m\u001b[0;34m,\u001b[0m\u001b[0mindex_col\u001b[0m \u001b[0;34m=\u001b[0m \u001b[0;32mTrue\u001b[0m\u001b[0;34m)\u001b[0m\u001b[0;34m\u001b[0m\u001b[0;34m\u001b[0m\u001b[0m\n\u001b[0m\u001b[1;32m      2\u001b[0m \u001b[0mdf_test\u001b[0m \u001b[0;34m=\u001b[0m \u001b[0mpd\u001b[0m\u001b[0;34m.\u001b[0m\u001b[0mread_csv\u001b[0m\u001b[0;34m(\u001b[0m\u001b[0;34m'TEST.csv'\u001b[0m\u001b[0;34m)\u001b[0m\u001b[0;34m\u001b[0m\u001b[0;34m\u001b[0m\u001b[0m\n\u001b[1;32m      3\u001b[0m \u001b[0mdf_train\u001b[0m\u001b[0;34m\u001b[0m\u001b[0;34m\u001b[0m\u001b[0m\n",
      "\u001b[0;32m~/opt/anaconda3/lib/python3.8/site-packages/pandas/io/parsers.py\u001b[0m in \u001b[0;36mread_csv\u001b[0;34m(filepath_or_buffer, sep, delimiter, header, names, index_col, usecols, squeeze, prefix, mangle_dupe_cols, dtype, engine, converters, true_values, false_values, skipinitialspace, skiprows, skipfooter, nrows, na_values, keep_default_na, na_filter, verbose, skip_blank_lines, parse_dates, infer_datetime_format, keep_date_col, date_parser, dayfirst, cache_dates, iterator, chunksize, compression, thousands, decimal, lineterminator, quotechar, quoting, doublequote, escapechar, comment, encoding, dialect, error_bad_lines, warn_bad_lines, delim_whitespace, low_memory, memory_map, float_precision, storage_options)\u001b[0m\n\u001b[1;32m    608\u001b[0m     \u001b[0mkwds\u001b[0m\u001b[0;34m.\u001b[0m\u001b[0mupdate\u001b[0m\u001b[0;34m(\u001b[0m\u001b[0mkwds_defaults\u001b[0m\u001b[0;34m)\u001b[0m\u001b[0;34m\u001b[0m\u001b[0;34m\u001b[0m\u001b[0m\n\u001b[1;32m    609\u001b[0m \u001b[0;34m\u001b[0m\u001b[0m\n\u001b[0;32m--> 610\u001b[0;31m     \u001b[0;32mreturn\u001b[0m \u001b[0m_read\u001b[0m\u001b[0;34m(\u001b[0m\u001b[0mfilepath_or_buffer\u001b[0m\u001b[0;34m,\u001b[0m \u001b[0mkwds\u001b[0m\u001b[0;34m)\u001b[0m\u001b[0;34m\u001b[0m\u001b[0;34m\u001b[0m\u001b[0m\n\u001b[0m\u001b[1;32m    611\u001b[0m \u001b[0;34m\u001b[0m\u001b[0m\n\u001b[1;32m    612\u001b[0m \u001b[0;34m\u001b[0m\u001b[0m\n",
      "\u001b[0;32m~/opt/anaconda3/lib/python3.8/site-packages/pandas/io/parsers.py\u001b[0m in \u001b[0;36m_read\u001b[0;34m(filepath_or_buffer, kwds)\u001b[0m\n\u001b[1;32m    460\u001b[0m \u001b[0;34m\u001b[0m\u001b[0m\n\u001b[1;32m    461\u001b[0m     \u001b[0;31m# Create the parser.\u001b[0m\u001b[0;34m\u001b[0m\u001b[0;34m\u001b[0m\u001b[0;34m\u001b[0m\u001b[0m\n\u001b[0;32m--> 462\u001b[0;31m     \u001b[0mparser\u001b[0m \u001b[0;34m=\u001b[0m \u001b[0mTextFileReader\u001b[0m\u001b[0;34m(\u001b[0m\u001b[0mfilepath_or_buffer\u001b[0m\u001b[0;34m,\u001b[0m \u001b[0;34m**\u001b[0m\u001b[0mkwds\u001b[0m\u001b[0;34m)\u001b[0m\u001b[0;34m\u001b[0m\u001b[0;34m\u001b[0m\u001b[0m\n\u001b[0m\u001b[1;32m    463\u001b[0m \u001b[0;34m\u001b[0m\u001b[0m\n\u001b[1;32m    464\u001b[0m     \u001b[0;32mif\u001b[0m \u001b[0mchunksize\u001b[0m \u001b[0;32mor\u001b[0m \u001b[0miterator\u001b[0m\u001b[0;34m:\u001b[0m\u001b[0;34m\u001b[0m\u001b[0;34m\u001b[0m\u001b[0m\n",
      "\u001b[0;32m~/opt/anaconda3/lib/python3.8/site-packages/pandas/io/parsers.py\u001b[0m in \u001b[0;36m__init__\u001b[0;34m(self, f, engine, **kwds)\u001b[0m\n\u001b[1;32m    812\u001b[0m \u001b[0;34m\u001b[0m\u001b[0m\n\u001b[1;32m    813\u001b[0m         \u001b[0mself\u001b[0m\u001b[0;34m.\u001b[0m\u001b[0m_check_file_or_buffer\u001b[0m\u001b[0;34m(\u001b[0m\u001b[0mf\u001b[0m\u001b[0;34m,\u001b[0m \u001b[0mengine\u001b[0m\u001b[0;34m)\u001b[0m\u001b[0;34m\u001b[0m\u001b[0;34m\u001b[0m\u001b[0m\n\u001b[0;32m--> 814\u001b[0;31m         \u001b[0mself\u001b[0m\u001b[0;34m.\u001b[0m\u001b[0moptions\u001b[0m\u001b[0;34m,\u001b[0m \u001b[0mself\u001b[0m\u001b[0;34m.\u001b[0m\u001b[0mengine\u001b[0m \u001b[0;34m=\u001b[0m \u001b[0mself\u001b[0m\u001b[0;34m.\u001b[0m\u001b[0m_clean_options\u001b[0m\u001b[0;34m(\u001b[0m\u001b[0moptions\u001b[0m\u001b[0;34m,\u001b[0m \u001b[0mengine\u001b[0m\u001b[0;34m)\u001b[0m\u001b[0;34m\u001b[0m\u001b[0;34m\u001b[0m\u001b[0m\n\u001b[0m\u001b[1;32m    815\u001b[0m \u001b[0;34m\u001b[0m\u001b[0m\n\u001b[1;32m    816\u001b[0m         \u001b[0;32mif\u001b[0m \u001b[0;34m\"has_index_names\"\u001b[0m \u001b[0;32min\u001b[0m \u001b[0mkwds\u001b[0m\u001b[0;34m:\u001b[0m\u001b[0;34m\u001b[0m\u001b[0;34m\u001b[0m\u001b[0m\n",
      "\u001b[0;32m~/opt/anaconda3/lib/python3.8/site-packages/pandas/io/parsers.py\u001b[0m in \u001b[0;36m_clean_options\u001b[0;34m(self, options, engine)\u001b[0m\n\u001b[1;32m    989\u001b[0m \u001b[0;34m\u001b[0m\u001b[0m\n\u001b[1;32m    990\u001b[0m         \u001b[0;32mif\u001b[0m \u001b[0mindex_col\u001b[0m \u001b[0;32mis\u001b[0m \u001b[0;32mTrue\u001b[0m\u001b[0;34m:\u001b[0m\u001b[0;34m\u001b[0m\u001b[0;34m\u001b[0m\u001b[0m\n\u001b[0;32m--> 991\u001b[0;31m             \u001b[0;32mraise\u001b[0m \u001b[0mValueError\u001b[0m\u001b[0;34m(\u001b[0m\u001b[0;34m\"The value of index_col couldn't be 'True'\"\u001b[0m\u001b[0;34m)\u001b[0m\u001b[0;34m\u001b[0m\u001b[0;34m\u001b[0m\u001b[0m\n\u001b[0m\u001b[1;32m    992\u001b[0m         \u001b[0;32mif\u001b[0m \u001b[0m_is_index_col\u001b[0m\u001b[0;34m(\u001b[0m\u001b[0mindex_col\u001b[0m\u001b[0;34m)\u001b[0m\u001b[0;34m:\u001b[0m\u001b[0;34m\u001b[0m\u001b[0;34m\u001b[0m\u001b[0m\n\u001b[1;32m    993\u001b[0m             \u001b[0;32mif\u001b[0m \u001b[0;32mnot\u001b[0m \u001b[0misinstance\u001b[0m\u001b[0;34m(\u001b[0m\u001b[0mindex_col\u001b[0m\u001b[0;34m,\u001b[0m \u001b[0;34m(\u001b[0m\u001b[0mlist\u001b[0m\u001b[0;34m,\u001b[0m \u001b[0mtuple\u001b[0m\u001b[0;34m,\u001b[0m \u001b[0mnp\u001b[0m\u001b[0;34m.\u001b[0m\u001b[0mndarray\u001b[0m\u001b[0;34m)\u001b[0m\u001b[0;34m)\u001b[0m\u001b[0;34m:\u001b[0m\u001b[0;34m\u001b[0m\u001b[0;34m\u001b[0m\u001b[0m\n",
      "\u001b[0;31mValueError\u001b[0m: The value of index_col couldn't be 'True'"
     ]
    }
   ],
   "source": [
    "df_train = pd.read_csv('TRAIN.csv')\n",
    "df_test = pd.read_csv('TEST.csv')\n",
    "df_train"
   ]
  },
  {
   "cell_type": "code",
   "execution_count": 3,
   "id": "98944436",
   "metadata": {},
   "outputs": [
    {
     "data": {
      "text/plain": [
       "used\n",
       "False    76\n",
       "True     32\n",
       "Name: used, dtype: int64"
      ]
     },
     "execution_count": 3,
     "metadata": {},
     "output_type": "execute_result"
    }
   ],
   "source": [
    "df_variable = pd.read_csv('VariablesUsed.csv')\n",
    "df_variable.groupby(['used'])['used'].count()"
   ]
  },
  {
   "cell_type": "code",
   "execution_count": 4,
   "id": "8b55f902",
   "metadata": {},
   "outputs": [
    {
     "data": {
      "text/html": [
       "<div>\n",
       "<style scoped>\n",
       "    .dataframe tbody tr th:only-of-type {\n",
       "        vertical-align: middle;\n",
       "    }\n",
       "\n",
       "    .dataframe tbody tr th {\n",
       "        vertical-align: top;\n",
       "    }\n",
       "\n",
       "    .dataframe thead th {\n",
       "        text-align: right;\n",
       "    }\n",
       "</style>\n",
       "<table border=\"1\" class=\"dataframe\">\n",
       "  <thead>\n",
       "    <tr style=\"text-align: right;\">\n",
       "      <th></th>\n",
       "      <th>LID</th>\n",
       "      <th>MRP</th>\n",
       "      <th>CHANNEL</th>\n",
       "      <th>SELLER</th>\n",
       "      <th>ORATE</th>\n",
       "      <th>CRATE</th>\n",
       "      <th>OUPB</th>\n",
       "      <th>OLTERM</th>\n",
       "      <th>ODATE</th>\n",
       "      <th>FPD</th>\n",
       "      <th>...</th>\n",
       "      <th>PTYPE</th>\n",
       "      <th>NUNITS</th>\n",
       "      <th>OCCSTAT</th>\n",
       "      <th>STATE</th>\n",
       "      <th>MSA</th>\n",
       "      <th>ZIP</th>\n",
       "      <th>CLDS</th>\n",
       "      <th>RMI</th>\n",
       "      <th>FORECLOSED</th>\n",
       "      <th>NMONTHS</th>\n",
       "    </tr>\n",
       "  </thead>\n",
       "  <tbody>\n",
       "    <tr>\n",
       "      <th>0</th>\n",
       "      <td>8.118470e+11</td>\n",
       "      <td>3/1/2000</td>\n",
       "      <td>C</td>\n",
       "      <td>Suntrust Mortgage Inc.</td>\n",
       "      <td>8.375</td>\n",
       "      <td>8.375</td>\n",
       "      <td>58000</td>\n",
       "      <td>360</td>\n",
       "      <td>7/1/1999</td>\n",
       "      <td>9/1/1999</td>\n",
       "      <td>...</td>\n",
       "      <td>SF</td>\n",
       "      <td>1</td>\n",
       "      <td>P</td>\n",
       "      <td>OK</td>\n",
       "      <td>36420</td>\n",
       "      <td>730</td>\n",
       "      <td>0</td>\n",
       "      <td>N</td>\n",
       "      <td>False</td>\n",
       "      <td>12</td>\n",
       "    </tr>\n",
       "    <tr>\n",
       "      <th>1</th>\n",
       "      <td>9.288980e+11</td>\n",
       "      <td>2/1/2000</td>\n",
       "      <td>C</td>\n",
       "      <td>Amtrust Bank</td>\n",
       "      <td>7.500</td>\n",
       "      <td>7.500</td>\n",
       "      <td>204000</td>\n",
       "      <td>180</td>\n",
       "      <td>12/1/1999</td>\n",
       "      <td>2/1/2000</td>\n",
       "      <td>...</td>\n",
       "      <td>SF</td>\n",
       "      <td>1</td>\n",
       "      <td>P</td>\n",
       "      <td>WA</td>\n",
       "      <td>48300</td>\n",
       "      <td>988</td>\n",
       "      <td>0</td>\n",
       "      <td>N</td>\n",
       "      <td>False</td>\n",
       "      <td>21</td>\n",
       "    </tr>\n",
       "    <tr>\n",
       "      <th>2</th>\n",
       "      <td>2.229740e+11</td>\n",
       "      <td>1/1/2000</td>\n",
       "      <td>C</td>\n",
       "      <td>Jpmorgan Chase Bank, Na</td>\n",
       "      <td>7.750</td>\n",
       "      <td>7.750</td>\n",
       "      <td>181000</td>\n",
       "      <td>360</td>\n",
       "      <td>12/1/1999</td>\n",
       "      <td>2/1/2000</td>\n",
       "      <td>...</td>\n",
       "      <td>SF</td>\n",
       "      <td>1</td>\n",
       "      <td>P</td>\n",
       "      <td>VA</td>\n",
       "      <td>40060</td>\n",
       "      <td>238</td>\n",
       "      <td>0</td>\n",
       "      <td>N</td>\n",
       "      <td>False</td>\n",
       "      <td>54</td>\n",
       "    </tr>\n",
       "    <tr>\n",
       "      <th>3</th>\n",
       "      <td>5.939500e+11</td>\n",
       "      <td>2/1/2000</td>\n",
       "      <td>B</td>\n",
       "      <td>Bank Of America, N.A.</td>\n",
       "      <td>8.625</td>\n",
       "      <td>8.625</td>\n",
       "      <td>135000</td>\n",
       "      <td>360</td>\n",
       "      <td>1/1/2000</td>\n",
       "      <td>3/1/2000</td>\n",
       "      <td>...</td>\n",
       "      <td>PU</td>\n",
       "      <td>1</td>\n",
       "      <td>P</td>\n",
       "      <td>AZ</td>\n",
       "      <td>38060</td>\n",
       "      <td>852</td>\n",
       "      <td>0</td>\n",
       "      <td>N</td>\n",
       "      <td>False</td>\n",
       "      <td>16</td>\n",
       "    </tr>\n",
       "    <tr>\n",
       "      <th>4</th>\n",
       "      <td>6.773390e+11</td>\n",
       "      <td>2/1/2000</td>\n",
       "      <td>C</td>\n",
       "      <td>Other</td>\n",
       "      <td>7.750</td>\n",
       "      <td>7.750</td>\n",
       "      <td>189000</td>\n",
       "      <td>360</td>\n",
       "      <td>12/1/1999</td>\n",
       "      <td>2/1/2000</td>\n",
       "      <td>...</td>\n",
       "      <td>SF</td>\n",
       "      <td>1</td>\n",
       "      <td>P</td>\n",
       "      <td>IN</td>\n",
       "      <td>29140</td>\n",
       "      <td>479</td>\n",
       "      <td>0</td>\n",
       "      <td>N</td>\n",
       "      <td>False</td>\n",
       "      <td>14</td>\n",
       "    </tr>\n",
       "    <tr>\n",
       "      <th>...</th>\n",
       "      <td>...</td>\n",
       "      <td>...</td>\n",
       "      <td>...</td>\n",
       "      <td>...</td>\n",
       "      <td>...</td>\n",
       "      <td>...</td>\n",
       "      <td>...</td>\n",
       "      <td>...</td>\n",
       "      <td>...</td>\n",
       "      <td>...</td>\n",
       "      <td>...</td>\n",
       "      <td>...</td>\n",
       "      <td>...</td>\n",
       "      <td>...</td>\n",
       "      <td>...</td>\n",
       "      <td>...</td>\n",
       "      <td>...</td>\n",
       "      <td>...</td>\n",
       "      <td>...</td>\n",
       "      <td>...</td>\n",
       "      <td>...</td>\n",
       "    </tr>\n",
       "    <tr>\n",
       "      <th>164570</th>\n",
       "      <td>8.194500e+11</td>\n",
       "      <td>2/1/2000</td>\n",
       "      <td>C</td>\n",
       "      <td>Amtrust Bank</td>\n",
       "      <td>7.875</td>\n",
       "      <td>7.875</td>\n",
       "      <td>106000</td>\n",
       "      <td>180</td>\n",
       "      <td>11/1/1999</td>\n",
       "      <td>1/1/2000</td>\n",
       "      <td>...</td>\n",
       "      <td>SF</td>\n",
       "      <td>1</td>\n",
       "      <td>I</td>\n",
       "      <td>MI</td>\n",
       "      <td>11460</td>\n",
       "      <td>481</td>\n",
       "      <td>0</td>\n",
       "      <td>N</td>\n",
       "      <td>False</td>\n",
       "      <td>24</td>\n",
       "    </tr>\n",
       "    <tr>\n",
       "      <th>164571</th>\n",
       "      <td>6.558220e+11</td>\n",
       "      <td>3/1/2000</td>\n",
       "      <td>R</td>\n",
       "      <td>Jpmorgan Chase Bank, Na</td>\n",
       "      <td>8.000</td>\n",
       "      <td>8.000</td>\n",
       "      <td>144000</td>\n",
       "      <td>180</td>\n",
       "      <td>2/1/2000</td>\n",
       "      <td>4/1/2000</td>\n",
       "      <td>...</td>\n",
       "      <td>SF</td>\n",
       "      <td>1</td>\n",
       "      <td>P</td>\n",
       "      <td>CA</td>\n",
       "      <td>41740</td>\n",
       "      <td>920</td>\n",
       "      <td>0</td>\n",
       "      <td>N</td>\n",
       "      <td>False</td>\n",
       "      <td>19</td>\n",
       "    </tr>\n",
       "    <tr>\n",
       "      <th>164572</th>\n",
       "      <td>6.577330e+11</td>\n",
       "      <td>3/1/2000</td>\n",
       "      <td>R</td>\n",
       "      <td>First Tennessee Bank National Association</td>\n",
       "      <td>8.250</td>\n",
       "      <td>8.250</td>\n",
       "      <td>88000</td>\n",
       "      <td>360</td>\n",
       "      <td>2/1/2000</td>\n",
       "      <td>3/1/2000</td>\n",
       "      <td>...</td>\n",
       "      <td>SF</td>\n",
       "      <td>1</td>\n",
       "      <td>P</td>\n",
       "      <td>WV</td>\n",
       "      <td>26580</td>\n",
       "      <td>255</td>\n",
       "      <td>0</td>\n",
       "      <td>N</td>\n",
       "      <td>False</td>\n",
       "      <td>12</td>\n",
       "    </tr>\n",
       "    <tr>\n",
       "      <th>164573</th>\n",
       "      <td>3.145290e+11</td>\n",
       "      <td>1/1/2000</td>\n",
       "      <td>R</td>\n",
       "      <td>Ge Mortgage Services, Llc</td>\n",
       "      <td>7.875</td>\n",
       "      <td>7.875</td>\n",
       "      <td>99000</td>\n",
       "      <td>240</td>\n",
       "      <td>10/1/1999</td>\n",
       "      <td>12/1/1999</td>\n",
       "      <td>...</td>\n",
       "      <td>SF</td>\n",
       "      <td>1</td>\n",
       "      <td>P</td>\n",
       "      <td>NY</td>\n",
       "      <td>35620</td>\n",
       "      <td>115</td>\n",
       "      <td>0</td>\n",
       "      <td>N</td>\n",
       "      <td>False</td>\n",
       "      <td>217</td>\n",
       "    </tr>\n",
       "    <tr>\n",
       "      <th>164574</th>\n",
       "      <td>8.571750e+11</td>\n",
       "      <td>1/1/2000</td>\n",
       "      <td>R</td>\n",
       "      <td>Rbc Mortgage Company</td>\n",
       "      <td>7.750</td>\n",
       "      <td>7.750</td>\n",
       "      <td>132000</td>\n",
       "      <td>360</td>\n",
       "      <td>12/1/1999</td>\n",
       "      <td>2/1/2000</td>\n",
       "      <td>...</td>\n",
       "      <td>SF</td>\n",
       "      <td>1</td>\n",
       "      <td>S</td>\n",
       "      <td>OR</td>\n",
       "      <td>0</td>\n",
       "      <td>971</td>\n",
       "      <td>0</td>\n",
       "      <td>N</td>\n",
       "      <td>False</td>\n",
       "      <td>35</td>\n",
       "    </tr>\n",
       "  </tbody>\n",
       "</table>\n",
       "<p>164575 rows × 31 columns</p>\n",
       "</div>"
      ],
      "text/plain": [
       "                 LID       MRP CHANNEL  \\\n",
       "0       8.118470e+11  3/1/2000       C   \n",
       "1       9.288980e+11  2/1/2000       C   \n",
       "2       2.229740e+11  1/1/2000       C   \n",
       "3       5.939500e+11  2/1/2000       B   \n",
       "4       6.773390e+11  2/1/2000       C   \n",
       "...              ...       ...     ...   \n",
       "164570  8.194500e+11  2/1/2000       C   \n",
       "164571  6.558220e+11  3/1/2000       R   \n",
       "164572  6.577330e+11  3/1/2000       R   \n",
       "164573  3.145290e+11  1/1/2000       R   \n",
       "164574  8.571750e+11  1/1/2000       R   \n",
       "\n",
       "                                           SELLER  ORATE  CRATE    OUPB  \\\n",
       "0                          Suntrust Mortgage Inc.  8.375  8.375   58000   \n",
       "1                                    Amtrust Bank  7.500  7.500  204000   \n",
       "2                         Jpmorgan Chase Bank, Na  7.750  7.750  181000   \n",
       "3                           Bank Of America, N.A.  8.625  8.625  135000   \n",
       "4                                           Other  7.750  7.750  189000   \n",
       "...                                           ...    ...    ...     ...   \n",
       "164570                               Amtrust Bank  7.875  7.875  106000   \n",
       "164571                    Jpmorgan Chase Bank, Na  8.000  8.000  144000   \n",
       "164572  First Tennessee Bank National Association  8.250  8.250   88000   \n",
       "164573                  Ge Mortgage Services, Llc  7.875  7.875   99000   \n",
       "164574                       Rbc Mortgage Company  7.750  7.750  132000   \n",
       "\n",
       "        OLTERM      ODATE        FPD  ...  PTYPE  NUNITS  OCCSTAT  STATE  \\\n",
       "0          360   7/1/1999   9/1/1999  ...     SF       1        P     OK   \n",
       "1          180  12/1/1999   2/1/2000  ...     SF       1        P     WA   \n",
       "2          360  12/1/1999   2/1/2000  ...     SF       1        P     VA   \n",
       "3          360   1/1/2000   3/1/2000  ...     PU       1        P     AZ   \n",
       "4          360  12/1/1999   2/1/2000  ...     SF       1        P     IN   \n",
       "...        ...        ...        ...  ...    ...     ...      ...    ...   \n",
       "164570     180  11/1/1999   1/1/2000  ...     SF       1        I     MI   \n",
       "164571     180   2/1/2000   4/1/2000  ...     SF       1        P     CA   \n",
       "164572     360   2/1/2000   3/1/2000  ...     SF       1        P     WV   \n",
       "164573     240  10/1/1999  12/1/1999  ...     SF       1        P     NY   \n",
       "164574     360  12/1/1999   2/1/2000  ...     SF       1        S     OR   \n",
       "\n",
       "          MSA  ZIP  CLDS  RMI  FORECLOSED NMONTHS  \n",
       "0       36420  730     0    N       False      12  \n",
       "1       48300  988     0    N       False      21  \n",
       "2       40060  238     0    N       False      54  \n",
       "3       38060  852     0    N       False      16  \n",
       "4       29140  479     0    N       False      14  \n",
       "...       ...  ...   ...  ...         ...     ...  \n",
       "164570  11460  481     0    N       False      24  \n",
       "164571  41740  920     0    N       False      19  \n",
       "164572  26580  255     0    N       False      12  \n",
       "164573  35620  115     0    N       False     217  \n",
       "164574      0  971     0    N       False      35  \n",
       "\n",
       "[164575 rows x 31 columns]"
      ]
     },
     "execution_count": 4,
     "metadata": {},
     "output_type": "execute_result"
    }
   ],
   "source": [
    "df_train = df_train.drop(['CLTV','MIP','MIT'],axis = 1)\n",
    "df_test = df_test.drop(['CLTV','MIP','MIT'],axis = 1)\n",
    "df_train"
   ]
  },
  {
   "cell_type": "code",
   "execution_count": 5,
   "id": "ec2cecc1",
   "metadata": {},
   "outputs": [
    {
     "data": {
      "text/plain": [
       "LID               0\n",
       "MRP               0\n",
       "CHANNEL           0\n",
       "SELLER            0\n",
       "ORATE             0\n",
       "CRATE             0\n",
       "OUPB              0\n",
       "OLTERM            0\n",
       "ODATE             0\n",
       "FPD               0\n",
       "LA                0\n",
       "TMTLM             0\n",
       "RMTM              0\n",
       "MDATE             0\n",
       "LOTV              1\n",
       "NB              198\n",
       "DTI            6998\n",
       "BCSAO          3981\n",
       "CBCSAO        82221\n",
       "FTHBI           218\n",
       "LP                0\n",
       "PTYPE             0\n",
       "NUNITS            0\n",
       "OCCSTAT           0\n",
       "STATE             0\n",
       "MSA               0\n",
       "ZIP               0\n",
       "CLDS              0\n",
       "RMI               0\n",
       "FORECLOSED        0\n",
       "NMONTHS           0\n",
       "dtype: int64"
      ]
     },
     "execution_count": 5,
     "metadata": {},
     "output_type": "execute_result"
    }
   ],
   "source": [
    "df_train.isnull().sum()"
   ]
  },
  {
   "cell_type": "code",
   "execution_count": 6,
   "id": "8eede6a3",
   "metadata": {},
   "outputs": [],
   "source": [
    "X_train = df_train.iloc[:,1:-2]\n",
    "X_test = df_test.iloc[:,1:]\n",
    "Y_train = df_train['NMONTHS']\n",
    "Y_train = Y_train.to_numpy()\n",
    "names_train = X_train.columns.values\n",
    "names_test = X_test.columns.values"
   ]
  },
  {
   "cell_type": "code",
   "execution_count": 7,
   "id": "a523758c",
   "metadata": {},
   "outputs": [],
   "source": [
    "categorical_cols = ['CHANNEL','SELLER','FTHBI','LP','PTYPE','OCCSTAT','STATE','RMI']"
   ]
  },
  {
   "cell_type": "code",
   "execution_count": 8,
   "id": "6c07960a",
   "metadata": {},
   "outputs": [],
   "source": [
    "for col in X_train.columns:\n",
    "    if col in categorical_cols:\n",
    "        a={}\n",
    "        for i in range(len(X_train[col].unique())):\n",
    "            a[X_train[col].unique()[i]]=i\n",
    "        work=X_train[col].map(a)\n",
    "        X_train[col]=work\n",
    "#encoded = list(X_train.columns)\n",
    "\n",
    "for col in X_test.columns:\n",
    "    if col in categorical_cols:\n",
    "        a={}\n",
    "        for i in range(len(X_test[col].unique())):\n",
    "            a[X_test[col].unique()[i]]=i\n",
    "        work=X_test[col].map(a)\n",
    "        X_test[col]=work\n",
    "#encoded = list(X_test.columns)"
   ]
  },
  {
   "cell_type": "code",
   "execution_count": 9,
   "id": "97342e11",
   "metadata": {},
   "outputs": [],
   "source": [
    "Date = ['MRP','ODATE','FPD']\n",
    "for i in Date:\n",
    "    X_train[i]= pd.to_datetime(X_train[i])\n",
    "    X_test[i]= pd.to_datetime(X_test[i])\n",
    "    X_train[i] =(X_train[i]-min(X_train[i])).dt.days\n",
    "    X_test[i] =(X_test[i]-min(X_test[i])).dt.days"
   ]
  },
  {
   "cell_type": "code",
   "execution_count": 10,
   "id": "95cfac11",
   "metadata": {},
   "outputs": [],
   "source": [
    "X_missing_train = X_train[['LOTV','NB','DTI','BCSAO','CBCSAO','FTHBI']]\n",
    "X_missing_test = X_test[['LOTV','NB','DTI','BCSAO','CBCSAO','FTHBI']]"
   ]
  },
  {
   "cell_type": "code",
   "execution_count": 11,
   "id": "0d18d15b",
   "metadata": {},
   "outputs": [],
   "source": [
    "knn_imputer = KNNImputer(n_neighbors = 2)\n",
    "X_filled_train = knn_imputer.fit_transform(X_missing_train)\n",
    "X_filled_train = pd.DataFrame(X_filled_train,columns = ['LOTV','NB','DTI','BCSAO','CBCSAO','FTHBI'])\n",
    "X_filled_test = knn_imputer.fit_transform(X_missing_test)\n",
    "X_filled_test = pd.DataFrame(X_filled_test,columns = ['LOTV','NB','DTI','BCSAO','CBCSAO','FTHBI'])"
   ]
  },
  {
   "cell_type": "code",
   "execution_count": 12,
   "id": "1d5a82de",
   "metadata": {},
   "outputs": [],
   "source": [
    "train_A = X_train.iloc[:,0:13]\n",
    "train_B = X_train.iloc[:,19:]\n",
    "X_train = pd.concat([train_A,X_filled_train,train_B], axis=1)\n",
    "test_A = X_test.iloc[:,0:13]\n",
    "test_B = X_test.iloc[:,19:]\n",
    "X_test = pd.concat([test_A,X_filled_test,test_B], axis=1)"
   ]
  },
  {
   "cell_type": "code",
   "execution_count": 13,
   "id": "8c911202",
   "metadata": {},
   "outputs": [],
   "source": [
    "ss = StandardScaler()\n",
    "ss.fit(X_train)\n",
    "X_train = ss.transform(X_train)\n",
    "X_test = ss.transform(X_test)"
   ]
  },
  {
   "cell_type": "code",
   "execution_count": 14,
   "id": "2ea446c1",
   "metadata": {},
   "outputs": [
    {
     "data": {
      "text/plain": [
       "28"
      ]
     },
     "execution_count": 14,
     "metadata": {},
     "output_type": "execute_result"
    }
   ],
   "source": [
    "len(np.transpose(X_test))"
   ]
  },
  {
   "cell_type": "markdown",
   "id": "8fa542e6",
   "metadata": {},
   "source": [
    "Regression"
   ]
  },
  {
   "cell_type": "code",
   "execution_count": 15,
   "id": "c6b56cc8",
   "metadata": {},
   "outputs": [],
   "source": [
    "models = {\"Logistic\": LogisticRegression(n_jobs=-1), \n",
    "            \"Liear\": LinearRegression(n_jobs=-1),\n",
    "            \"Lasso\": Lasso(),\n",
    "            \"Ridge\": Ridge(),\n",
    "             \"BayesianRidge\": BayesianRidge(),\n",
    "             \"ElasticNet\" : ElasticNet()}  "
   ]
  },
  {
   "cell_type": "code",
   "execution_count": 16,
   "id": "591be008",
   "metadata": {},
   "outputs": [
    {
     "name": "stdout",
     "output_type": "stream",
     "text": [
      "Model: Logistic, r_sq: 0.05\n",
      "Model: Liear, r_sq: 0.10\n",
      "Model: Lasso, r_sq: 0.09\n",
      "Model: Ridge, r_sq: 0.10\n",
      "Model: BayesianRidge, r_sq: 0.10\n",
      "Model: ElasticNet, r_sq: 0.08\n"
     ]
    }
   ],
   "source": [
    "for model_name, model in models.items():\n",
    "    model.fit(X_train, Y_train)\n",
    "    pred = model.predict(X_test)\n",
    "    r_sq = model.score(X_train, Y_train)\n",
    "    print(\"Model: {}, r_sq: {:.2f}\".format(model_name, r_sq))"
   ]
  },
  {
   "cell_type": "code",
   "execution_count": 17,
   "id": "7abbb023",
   "metadata": {},
   "outputs": [
    {
     "name": "stdout",
     "output_type": "stream",
     "text": [
      "0.8935819988652844\n"
     ]
    }
   ],
   "source": [
    "pca = PCA(n_components=18)\n",
    "pca.fit(X_train)\n",
    "X_train_pca = pca.transform(X_train)\n",
    "X_test_pca = pca.transform(X_test)\n",
    "print(sum(pca.explained_variance_ratio_))"
   ]
  },
  {
   "cell_type": "code",
   "execution_count": 18,
   "id": "a972a43f",
   "metadata": {},
   "outputs": [
    {
     "name": "stdout",
     "output_type": "stream",
     "text": [
      "Model: Logistic, r_sq: 0.05\n",
      "Model: Liear, r_sq: 0.07\n",
      "Model: Lasso, r_sq: 0.06\n",
      "Model: Ridge, r_sq: 0.07\n",
      "Model: BayesianRidge, r_sq: 0.07\n",
      "Model: ElasticNet, r_sq: 0.06\n"
     ]
    }
   ],
   "source": [
    "for model_name, model in models.items():\n",
    "    model.fit(X_train_pca, Y_train)\n",
    "    pred_pca = model.predict(X_test_pca)\n",
    "    r_sq = model.score(X_train_pca, Y_train)\n",
    "    print(\"Model: {}, r_sq: {:.2f}\".format(model_name, r_sq))"
   ]
  },
  {
   "cell_type": "code",
   "execution_count": 19,
   "id": "f951b4e1",
   "metadata": {},
   "outputs": [
    {
     "data": {
      "text/plain": [
       "array([28.80249713, 34.81039625, 38.45919092, ..., 18.17584884,\n",
       "       40.11261394, 33.77865983])"
      ]
     },
     "execution_count": 19,
     "metadata": {},
     "output_type": "execute_result"
    }
   ],
   "source": [
    "pred"
   ]
  },
  {
   "cell_type": "code",
   "execution_count": 39,
   "id": "a5652695",
   "metadata": {},
   "outputs": [
    {
     "name": "stdout",
     "output_type": "stream",
     "text": [
      "            LID       MRP CHANNEL                   SELLER  ORATE  CRATE  \\\n",
      "0  8.118470e+11  3/1/2000       C   Suntrust Mortgage Inc.  8.375  8.375   \n",
      "1  9.288980e+11  2/1/2000       C             Amtrust Bank  7.500  7.500   \n",
      "2  2.229740e+11  1/1/2000       C  Jpmorgan Chase Bank, Na  7.750  7.750   \n",
      "3  5.939500e+11  2/1/2000       B    Bank Of America, N.A.  8.625  8.625   \n",
      "4  6.773390e+11  2/1/2000       C                    Other  7.750  7.750   \n",
      "\n",
      "     OUPB  OLTERM      ODATE       FPD  ...  STATE    MSA  ZIP   MIP  CLDS  \\\n",
      "0   58000     360   7/1/1999  9/1/1999  ...     OK  36420  730   NaN     0   \n",
      "1  204000     180  12/1/1999  2/1/2000  ...     WA  48300  988   NaN     0   \n",
      "2  181000     360  12/1/1999  2/1/2000  ...     VA  40060  238  30.0     0   \n",
      "3  135000     360   1/1/2000  3/1/2000  ...     AZ  38060  852  30.0     0   \n",
      "4  189000     360  12/1/1999  2/1/2000  ...     IN  29140  479   NaN     0   \n",
      "\n",
      "   MIT  RMI  FORECLOSED  NMONTHS   LNMONTH  \n",
      "0  NaN    N       False       12  2.484907  \n",
      "1  NaN    N       False       21  3.044522  \n",
      "2  1.0    N       False       54  3.988984  \n",
      "3  2.0    N       False       16  2.772589  \n",
      "4  NaN    N       False       14  2.639057  \n",
      "\n",
      "[5 rows x 35 columns]\n"
     ]
    }
   ],
   "source": [
    "import patsy as ps\n",
    "import pandas as pd\n",
    "import numpy as np\n",
    "from sklearn.linear_model import LinearRegression\n",
    "import patsy as ps\n",
    "\n",
    "data[\"LNMONTH\"]=data.NMONTHS.apply(np.log)\n",
    "print(data.head())\n",
    "N=data.shape[0]\n",
    "perm=np.random.permutation(range(N))\n",
    "data=data.loc[perm]\n",
    "Ntrain=int(.8*N)\n",
    "Ntest=N-Ntrain\n",
    "data_train=data.iloc[0:Ntrain]\n",
    "data_test=data.iloc[Ntrain:N]"
   ]
  },
  {
   "cell_type": "code",
   "execution_count": 40,
   "id": "b628dee8",
   "metadata": {},
   "outputs": [],
   "source": [
    "formula=\"LNMONTH~MRP+CHANNEL+SELLER+ORATE+CRATE+OUPB+OLTERM+ODATE+FPD+LA+TMTLM+RMTM+MDATE+LOTV+NB+DTI+BCSAO+CBCSAO+FTHBI+LP+PTYPE+NUNITS+OCCSTAT+STATE+MSA+ZIP+CLDS+RMI\"\n",
    "Ytrain,Xtrain=ps.dmatrices(formula,data_train)\n",
    "Ytest,Xtest=ps.dmatrices(formula,data_test)"
   ]
  },
  {
   "cell_type": "code",
   "execution_count": 41,
   "id": "509efb4c",
   "metadata": {},
   "outputs": [
    {
     "ename": "ValueError",
     "evalue": "X has 135 features, but LinearRegression is expecting 134 features as input.",
     "output_type": "error",
     "traceback": [
      "\u001b[0;31m---------------------------------------------------------------------------\u001b[0m",
      "\u001b[0;31mValueError\u001b[0m                                Traceback (most recent call last)",
      "\u001b[0;32m<ipython-input-41-33f5ada37070>\u001b[0m in \u001b[0;36m<module>\u001b[0;34m\u001b[0m\n\u001b[1;32m      1\u001b[0m \u001b[0mNtest\u001b[0m\u001b[0;34m=\u001b[0m\u001b[0mYtest\u001b[0m\u001b[0;34m.\u001b[0m\u001b[0mshape\u001b[0m\u001b[0;34m[\u001b[0m\u001b[0;36m0\u001b[0m\u001b[0;34m]\u001b[0m\u001b[0;34m\u001b[0m\u001b[0;34m\u001b[0m\u001b[0m\n\u001b[1;32m      2\u001b[0m \u001b[0mreg\u001b[0m\u001b[0;34m=\u001b[0m \u001b[0mLinearRegression\u001b[0m\u001b[0;34m(\u001b[0m\u001b[0;34m)\u001b[0m\u001b[0;34m.\u001b[0m\u001b[0mfit\u001b[0m\u001b[0;34m(\u001b[0m\u001b[0mXtrain\u001b[0m\u001b[0;34m,\u001b[0m\u001b[0mYtrain\u001b[0m\u001b[0;34m)\u001b[0m\u001b[0;34m\u001b[0m\u001b[0;34m\u001b[0m\u001b[0m\n\u001b[0;32m----> 3\u001b[0;31m \u001b[0mYtest_pred\u001b[0m\u001b[0;34m=\u001b[0m\u001b[0mreg\u001b[0m\u001b[0;34m.\u001b[0m\u001b[0mpredict\u001b[0m\u001b[0;34m(\u001b[0m\u001b[0mXtest\u001b[0m\u001b[0;34m)\u001b[0m\u001b[0;34m\u001b[0m\u001b[0;34m\u001b[0m\u001b[0m\n\u001b[0m\u001b[1;32m      4\u001b[0m \u001b[0me\u001b[0m\u001b[0;34m=\u001b[0m\u001b[0mpd\u001b[0m\u001b[0;34m.\u001b[0m\u001b[0mSeries\u001b[0m\u001b[0;34m(\u001b[0m\u001b[0;34m(\u001b[0m\u001b[0mYtest\u001b[0m\u001b[0;34m-\u001b[0m\u001b[0mYtest_pred\u001b[0m\u001b[0;34m)\u001b[0m\u001b[0;34m.\u001b[0m\u001b[0mreshape\u001b[0m\u001b[0;34m(\u001b[0m\u001b[0;34m(\u001b[0m\u001b[0mNtest\u001b[0m\u001b[0;34m,\u001b[0m\u001b[0;34m)\u001b[0m\u001b[0;34m)\u001b[0m\u001b[0;34m)\u001b[0m\u001b[0;34m\u001b[0m\u001b[0;34m\u001b[0m\u001b[0m\n\u001b[1;32m      5\u001b[0m \u001b[0mMAD\u001b[0m\u001b[0;34m=\u001b[0m\u001b[0me\u001b[0m\u001b[0;34m.\u001b[0m\u001b[0mapply\u001b[0m\u001b[0;34m(\u001b[0m\u001b[0mabs\u001b[0m\u001b[0;34m)\u001b[0m\u001b[0;34m.\u001b[0m\u001b[0mmean\u001b[0m\u001b[0;34m(\u001b[0m\u001b[0;34m)\u001b[0m\u001b[0;34m\u001b[0m\u001b[0;34m\u001b[0m\u001b[0m\n",
      "\u001b[0;32m~/opt/anaconda3/lib/python3.8/site-packages/sklearn/linear_model/_base.py\u001b[0m in \u001b[0;36mpredict\u001b[0;34m(self, X)\u001b[0m\n\u001b[1;32m    360\u001b[0m             \u001b[0mReturns\u001b[0m \u001b[0mpredicted\u001b[0m \u001b[0mvalues\u001b[0m\u001b[0;34m.\u001b[0m\u001b[0;34m\u001b[0m\u001b[0;34m\u001b[0m\u001b[0m\n\u001b[1;32m    361\u001b[0m         \"\"\"\n\u001b[0;32m--> 362\u001b[0;31m         \u001b[0;32mreturn\u001b[0m \u001b[0mself\u001b[0m\u001b[0;34m.\u001b[0m\u001b[0m_decision_function\u001b[0m\u001b[0;34m(\u001b[0m\u001b[0mX\u001b[0m\u001b[0;34m)\u001b[0m\u001b[0;34m\u001b[0m\u001b[0;34m\u001b[0m\u001b[0m\n\u001b[0m\u001b[1;32m    363\u001b[0m \u001b[0;34m\u001b[0m\u001b[0m\n\u001b[1;32m    364\u001b[0m     \u001b[0m_preprocess_data\u001b[0m \u001b[0;34m=\u001b[0m \u001b[0mstaticmethod\u001b[0m\u001b[0;34m(\u001b[0m\u001b[0m_preprocess_data\u001b[0m\u001b[0;34m)\u001b[0m\u001b[0;34m\u001b[0m\u001b[0;34m\u001b[0m\u001b[0m\n",
      "\u001b[0;32m~/opt/anaconda3/lib/python3.8/site-packages/sklearn/linear_model/_base.py\u001b[0m in \u001b[0;36m_decision_function\u001b[0;34m(self, X)\u001b[0m\n\u001b[1;32m    343\u001b[0m         \u001b[0mcheck_is_fitted\u001b[0m\u001b[0;34m(\u001b[0m\u001b[0mself\u001b[0m\u001b[0;34m)\u001b[0m\u001b[0;34m\u001b[0m\u001b[0;34m\u001b[0m\u001b[0m\n\u001b[1;32m    344\u001b[0m \u001b[0;34m\u001b[0m\u001b[0m\n\u001b[0;32m--> 345\u001b[0;31m         \u001b[0mX\u001b[0m \u001b[0;34m=\u001b[0m \u001b[0mself\u001b[0m\u001b[0;34m.\u001b[0m\u001b[0m_validate_data\u001b[0m\u001b[0;34m(\u001b[0m\u001b[0mX\u001b[0m\u001b[0;34m,\u001b[0m \u001b[0maccept_sparse\u001b[0m\u001b[0;34m=\u001b[0m\u001b[0;34m[\u001b[0m\u001b[0;34m\"csr\"\u001b[0m\u001b[0;34m,\u001b[0m \u001b[0;34m\"csc\"\u001b[0m\u001b[0;34m,\u001b[0m \u001b[0;34m\"coo\"\u001b[0m\u001b[0;34m]\u001b[0m\u001b[0;34m,\u001b[0m \u001b[0mreset\u001b[0m\u001b[0;34m=\u001b[0m\u001b[0;32mFalse\u001b[0m\u001b[0;34m)\u001b[0m\u001b[0;34m\u001b[0m\u001b[0;34m\u001b[0m\u001b[0m\n\u001b[0m\u001b[1;32m    346\u001b[0m         \u001b[0;32mreturn\u001b[0m \u001b[0msafe_sparse_dot\u001b[0m\u001b[0;34m(\u001b[0m\u001b[0mX\u001b[0m\u001b[0;34m,\u001b[0m \u001b[0mself\u001b[0m\u001b[0;34m.\u001b[0m\u001b[0mcoef_\u001b[0m\u001b[0;34m.\u001b[0m\u001b[0mT\u001b[0m\u001b[0;34m,\u001b[0m \u001b[0mdense_output\u001b[0m\u001b[0;34m=\u001b[0m\u001b[0;32mTrue\u001b[0m\u001b[0;34m)\u001b[0m \u001b[0;34m+\u001b[0m \u001b[0mself\u001b[0m\u001b[0;34m.\u001b[0m\u001b[0mintercept_\u001b[0m\u001b[0;34m\u001b[0m\u001b[0;34m\u001b[0m\u001b[0m\n\u001b[1;32m    347\u001b[0m \u001b[0;34m\u001b[0m\u001b[0m\n",
      "\u001b[0;32m~/opt/anaconda3/lib/python3.8/site-packages/sklearn/base.py\u001b[0m in \u001b[0;36m_validate_data\u001b[0;34m(self, X, y, reset, validate_separately, **check_params)\u001b[0m\n\u001b[1;32m    583\u001b[0m \u001b[0;34m\u001b[0m\u001b[0m\n\u001b[1;32m    584\u001b[0m         \u001b[0;32mif\u001b[0m \u001b[0;32mnot\u001b[0m \u001b[0mno_val_X\u001b[0m \u001b[0;32mand\u001b[0m \u001b[0mcheck_params\u001b[0m\u001b[0;34m.\u001b[0m\u001b[0mget\u001b[0m\u001b[0;34m(\u001b[0m\u001b[0;34m\"ensure_2d\"\u001b[0m\u001b[0;34m,\u001b[0m \u001b[0;32mTrue\u001b[0m\u001b[0;34m)\u001b[0m\u001b[0;34m:\u001b[0m\u001b[0;34m\u001b[0m\u001b[0;34m\u001b[0m\u001b[0m\n\u001b[0;32m--> 585\u001b[0;31m             \u001b[0mself\u001b[0m\u001b[0;34m.\u001b[0m\u001b[0m_check_n_features\u001b[0m\u001b[0;34m(\u001b[0m\u001b[0mX\u001b[0m\u001b[0;34m,\u001b[0m \u001b[0mreset\u001b[0m\u001b[0;34m=\u001b[0m\u001b[0mreset\u001b[0m\u001b[0;34m)\u001b[0m\u001b[0;34m\u001b[0m\u001b[0;34m\u001b[0m\u001b[0m\n\u001b[0m\u001b[1;32m    586\u001b[0m \u001b[0;34m\u001b[0m\u001b[0m\n\u001b[1;32m    587\u001b[0m         \u001b[0;32mreturn\u001b[0m \u001b[0mout\u001b[0m\u001b[0;34m\u001b[0m\u001b[0;34m\u001b[0m\u001b[0m\n",
      "\u001b[0;32m~/opt/anaconda3/lib/python3.8/site-packages/sklearn/base.py\u001b[0m in \u001b[0;36m_check_n_features\u001b[0;34m(self, X, reset)\u001b[0m\n\u001b[1;32m    398\u001b[0m \u001b[0;34m\u001b[0m\u001b[0m\n\u001b[1;32m    399\u001b[0m         \u001b[0;32mif\u001b[0m \u001b[0mn_features\u001b[0m \u001b[0;34m!=\u001b[0m \u001b[0mself\u001b[0m\u001b[0;34m.\u001b[0m\u001b[0mn_features_in_\u001b[0m\u001b[0;34m:\u001b[0m\u001b[0;34m\u001b[0m\u001b[0;34m\u001b[0m\u001b[0m\n\u001b[0;32m--> 400\u001b[0;31m             raise ValueError(\n\u001b[0m\u001b[1;32m    401\u001b[0m                 \u001b[0;34mf\"X has {n_features} features, but {self.__class__.__name__} \"\u001b[0m\u001b[0;34m\u001b[0m\u001b[0;34m\u001b[0m\u001b[0m\n\u001b[1;32m    402\u001b[0m                 \u001b[0;34mf\"is expecting {self.n_features_in_} features as input.\"\u001b[0m\u001b[0;34m\u001b[0m\u001b[0;34m\u001b[0m\u001b[0m\n",
      "\u001b[0;31mValueError\u001b[0m: X has 135 features, but LinearRegression is expecting 134 features as input."
     ]
    }
   ],
   "source": [
    "Ntest=Ytest.shape[0]\n",
    "reg= LinearRegression().fit(Xtrain,Ytrain)\n",
    "Ytest_pred=reg.predict(Xtest)\n",
    "e=pd.Series((Ytest-Ytest_pred).reshape((Ntest,)))\n",
    "MAD=e.apply(abs).mean()\n",
    "print(MAD)\n",
    "print(Xtrain)"
   ]
  },
  {
   "cell_type": "code",
   "execution_count": 36,
   "id": "0eb5e096",
   "metadata": {},
   "outputs": [
    {
     "ename": "NameError",
     "evalue": "name 'X' is not defined",
     "output_type": "error",
     "traceback": [
      "\u001b[0;31m---------------------------------------------------------------------------\u001b[0m",
      "\u001b[0;31mNameError\u001b[0m                                 Traceback (most recent call last)",
      "\u001b[0;32m<ipython-input-36-b5fec669aca1>\u001b[0m in \u001b[0;36m<module>\u001b[0;34m\u001b[0m\n\u001b[0;32m----> 1\u001b[0;31m \u001b[0mX\u001b[0m\u001b[0;34m\u001b[0m\u001b[0;34m\u001b[0m\u001b[0m\n\u001b[0m",
      "\u001b[0;31mNameError\u001b[0m: name 'X' is not defined"
     ]
    }
   ],
   "source": []
  },
  {
   "cell_type": "code",
   "execution_count": null,
   "id": "1c7a49ae",
   "metadata": {},
   "outputs": [],
   "source": []
  }
 ],
 "metadata": {
  "kernelspec": {
   "display_name": "Python 3",
   "language": "python",
   "name": "python3"
  },
  "language_info": {
   "codemirror_mode": {
    "name": "ipython",
    "version": 3
   },
   "file_extension": ".py",
   "mimetype": "text/x-python",
   "name": "python",
   "nbconvert_exporter": "python",
   "pygments_lexer": "ipython3",
   "version": "3.8.8"
  }
 },
 "nbformat": 4,
 "nbformat_minor": 5
}
