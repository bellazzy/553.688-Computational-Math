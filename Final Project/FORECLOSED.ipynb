{
 "cells": [
  {
   "cell_type": "code",
   "execution_count": 1,
   "id": "33fb1d16",
   "metadata": {},
   "outputs": [],
   "source": [
    "import patsy as ps\n",
    "import pandas as pd\n",
    "import numpy as np\n",
    "from sklearn.linear_model import LinearRegression\n",
    "import patsy as ps"
   ]
  },
  {
   "cell_type": "code",
   "execution_count": 2,
   "id": "c8243b56",
   "metadata": {},
   "outputs": [],
   "source": [
    "df_train = pd.read_csv('TRAIN.csv')\n",
    "df_test = pd.read_csv('TEST.csv')"
   ]
  },
  {
   "cell_type": "code",
   "execution_count": 3,
   "id": "16ad7306",
   "metadata": {},
   "outputs": [
    {
     "data": {
      "text/plain": [
       "LID                0\n",
       "MRP                0\n",
       "CHANNEL            0\n",
       "SELLER             0\n",
       "ORATE              0\n",
       "CRATE              0\n",
       "OUPB               0\n",
       "OLTERM             0\n",
       "ODATE              0\n",
       "FPD                0\n",
       "LA                 0\n",
       "TMTLM              0\n",
       "RMTM               0\n",
       "MDATE              0\n",
       "LOTV               1\n",
       "CLTV          163905\n",
       "NB               198\n",
       "DTI             6998\n",
       "BCSAO           3981\n",
       "CBCSAO         82221\n",
       "FTHBI            218\n",
       "LP                 0\n",
       "PTYPE              0\n",
       "NUNITS             0\n",
       "OCCSTAT            0\n",
       "STATE              0\n",
       "MSA                0\n",
       "ZIP                0\n",
       "MIP           110261\n",
       "CLDS               0\n",
       "MIT           110261\n",
       "RMI                0\n",
       "FORECLOSED         0\n",
       "NMONTHS            0\n",
       "dtype: int64"
      ]
     },
     "execution_count": 3,
     "metadata": {},
     "output_type": "execute_result"
    }
   ],
   "source": [
    "df_train.isnull().sum()"
   ]
  },
  {
   "cell_type": "markdown",
   "id": "924b3c21",
   "metadata": {},
   "source": [
    "since there are two many missing info for features: CLTV, MIP, MIT both in training and testing set, I decide to drop those three features."
   ]
  },
  {
   "cell_type": "markdown",
   "id": "f6dcf359-c19d-4d87-afc3-42d0b9e08bb1",
   "metadata": {},
   "source": [
    "### df_train = df_train.drop(['CLTV','MIP','MIT'],axis = 1)\n",
    "df_test = df_test.drop(['CLTV','MIP','MIT'],axis = 1)\n",
    "df_train"
   ]
  },
  {
   "cell_type": "code",
   "execution_count": 5,
   "id": "38c3c7c5",
   "metadata": {},
   "outputs": [
    {
     "data": {
      "text/plain": [
       "LID               0\n",
       "MRP               0\n",
       "CHANNEL           0\n",
       "SELLER            0\n",
       "ORATE             0\n",
       "CRATE             0\n",
       "OUPB              0\n",
       "OLTERM            0\n",
       "ODATE             0\n",
       "FPD               0\n",
       "LA                0\n",
       "TMTLM             0\n",
       "RMTM              0\n",
       "MDATE             0\n",
       "LOTV              1\n",
       "NB              198\n",
       "DTI            6998\n",
       "BCSAO          3981\n",
       "CBCSAO        82221\n",
       "FTHBI           218\n",
       "LP                0\n",
       "PTYPE             0\n",
       "NUNITS            0\n",
       "OCCSTAT           0\n",
       "STATE             0\n",
       "MSA               0\n",
       "ZIP               0\n",
       "CLDS              0\n",
       "RMI               0\n",
       "FORECLOSED        0\n",
       "NMONTHS           0\n",
       "dtype: int64"
      ]
     },
     "execution_count": 5,
     "metadata": {},
     "output_type": "execute_result"
    }
   ],
   "source": [
    "df_train.isnull().sum()"
   ]
  },
  {
   "cell_type": "markdown",
   "id": "df17f879",
   "metadata": {},
   "source": [
    "Now, there are several feartures left with missing values: LOTV, NB, DTI, BCSAO, CBCSAO, FTHBI, I decide to deal with them individually, \\\n",
    "because the fit for them using same package might not be so accuracte for every features. And I found the testing set have similar \\\n",
    "situation with training set, thus, same operation should be processed with testing set also."
   ]
  },
  {
   "cell_type": "markdown",
   "id": "d2d8702a",
   "metadata": {},
   "source": [
    "Feature: LOTV"
   ]
  },
  {
   "cell_type": "code",
   "execution_count": 6,
   "id": "345dc950",
   "metadata": {},
   "outputs": [
    {
     "data": {
      "text/plain": [
       "LOTV\n",
       "4.0         4\n",
       "5.0         5\n",
       "6.0         5\n",
       "7.0         8\n",
       "8.0        13\n",
       "        ...  \n",
       "93.0     1034\n",
       "94.0     1095\n",
       "95.0    21377\n",
       "96.0       61\n",
       "97.0     5112\n",
       "Name: LOTV, Length: 94, dtype: int64"
      ]
     },
     "execution_count": 6,
     "metadata": {},
     "output_type": "execute_result"
    }
   ],
   "source": [
    "df_train.groupby(['LOTV'])['LOTV'].count()"
   ]
  },
  {
   "cell_type": "markdown",
   "id": "c1c63776",
   "metadata": {},
   "source": [
    "Since for this column, there is only one missing value, and the data type is integer, so I don not need to do transformation for this column, \\\n",
    "I can instead fit the missing line using interpolate() function."
   ]
  },
  {
   "cell_type": "code",
   "execution_count": 7,
   "id": "dafec3e6",
   "metadata": {},
   "outputs": [
    {
     "data": {
      "text/plain": [
       "0"
      ]
     },
     "execution_count": 7,
     "metadata": {},
     "output_type": "execute_result"
    }
   ],
   "source": [
    "df_train['LOTV'].interpolate(method='linear', direction = 'forward', inplace=True)\n",
    "df_test['LOTV'].interpolate(method='linear', direction = 'forward', inplace=True)\n",
    "df_train['LOTV'].isnull().sum()"
   ]
  },
  {
   "cell_type": "markdown",
   "id": "0407eb52",
   "metadata": {},
   "source": [
    "Feature: NB"
   ]
  },
  {
   "cell_type": "code",
   "execution_count": 8,
   "id": "e6314b65",
   "metadata": {},
   "outputs": [
    {
     "data": {
      "text/plain": [
       "NB\n",
       "1.0     65784\n",
       "2.0     96484\n",
       "3.0      1760\n",
       "4.0       322\n",
       "5.0        15\n",
       "6.0         6\n",
       "7.0         2\n",
       "8.0         3\n",
       "10.0        1\n",
       "Name: NB, dtype: int64"
      ]
     },
     "execution_count": 8,
     "metadata": {},
     "output_type": "execute_result"
    }
   ],
   "source": [
    "df_train.groupby(['NB'])['NB'].count()"
   ]
  },
  {
   "cell_type": "markdown",
   "id": "643885bf",
   "metadata": {},
   "source": [
    "For this column, the majority of data is 1.0 or 2.0, so I decide to use fillna method to fit the missing with median(mean is also feasible)."
   ]
  },
  {
   "cell_type": "code",
   "execution_count": 9,
   "id": "0a10ba97",
   "metadata": {},
   "outputs": [
    {
     "data": {
      "text/plain": [
       "0"
      ]
     },
     "execution_count": 9,
     "metadata": {},
     "output_type": "execute_result"
    }
   ],
   "source": [
    "df_train['NB']= df_train['NB'].fillna(df_train['NB'].median())\n",
    "df_test['NB']= df_test['NB'].fillna(df_test['NB'].median())\n",
    "df_train['NB'].isnull().sum()"
   ]
  },
  {
   "cell_type": "markdown",
   "id": "0951ca21",
   "metadata": {},
   "source": [
    "Feature: DTI BCSAO CBCSAO FTHBI"
   ]
  },
  {
   "cell_type": "code",
   "execution_count": 10,
   "id": "d4074ea3",
   "metadata": {},
   "outputs": [
    {
     "data": {
      "text/plain": [
       "DTI\n",
       "1.0      31\n",
       "2.0      47\n",
       "3.0      96\n",
       "4.0     134\n",
       "5.0     139\n",
       "       ... \n",
       "60.0    853\n",
       "61.0    799\n",
       "62.0    774\n",
       "63.0    656\n",
       "64.0    646\n",
       "Name: DTI, Length: 64, dtype: int64"
      ]
     },
     "execution_count": 10,
     "metadata": {},
     "output_type": "execute_result"
    }
   ],
   "source": [
    "df_train.groupby(['DTI'])['DTI'].count()"
   ]
  },
  {
   "cell_type": "code",
   "execution_count": 11,
   "id": "8d260b85",
   "metadata": {},
   "outputs": [
    {
     "data": {
      "text/plain": [
       "BCSAO\n",
       "350.0    2\n",
       "354.0    2\n",
       "372.0    1\n",
       "375.0    1\n",
       "400.0    7\n",
       "        ..\n",
       "834.0    1\n",
       "842.0    1\n",
       "844.0    1\n",
       "845.0    1\n",
       "850.0    1\n",
       "Name: BCSAO, Length: 369, dtype: int64"
      ]
     },
     "execution_count": 11,
     "metadata": {},
     "output_type": "execute_result"
    }
   ],
   "source": [
    "df_train.groupby(['BCSAO'])['BCSAO'].count()"
   ]
  },
  {
   "cell_type": "code",
   "execution_count": 12,
   "id": "b6b0ce95",
   "metadata": {},
   "outputs": [
    {
     "data": {
      "text/plain": [
       "CBCSAO\n",
       "396.0    1\n",
       "400.0    4\n",
       "446.0    1\n",
       "455.0    1\n",
       "459.0    1\n",
       "        ..\n",
       "824.0    4\n",
       "826.0    2\n",
       "828.0    1\n",
       "832.0    1\n",
       "834.0    1\n",
       "Name: CBCSAO, Length: 340, dtype: int64"
      ]
     },
     "execution_count": 12,
     "metadata": {},
     "output_type": "execute_result"
    }
   ],
   "source": [
    "df_train.groupby(['CBCSAO'])['CBCSAO'].count()"
   ]
  },
  {
   "cell_type": "code",
   "execution_count": 13,
   "id": "a695f4dd",
   "metadata": {},
   "outputs": [
    {
     "data": {
      "text/plain": [
       "FTHBI\n",
       "N    137174\n",
       "Y     27183\n",
       "Name: FTHBI, dtype: int64"
      ]
     },
     "execution_count": 13,
     "metadata": {},
     "output_type": "execute_result"
    }
   ],
   "source": [
    "df_train.groupby(['FTHBI'])['FTHBI'].count()"
   ]
  },
  {
   "cell_type": "markdown",
   "id": "2d3a8e80",
   "metadata": {},
   "source": [
    "It looks the column FTHBI is not numerical values, we can make it to numerical by changing to 0 and 1 for this binary situation"
   ]
  },
  {
   "cell_type": "code",
   "execution_count": 14,
   "id": "a2a530cb",
   "metadata": {},
   "outputs": [],
   "source": [
    "df_train[\"FTHBI\"] = df_train[\"FTHBI\"].apply(lambda FTHBI: 0 if FTHBI == 'N' else (1 if FTHBI == 'Y' else None))\n",
    "df_test[\"FTHBI\"] = df_test[\"FTHBI\"].apply(lambda FTHBI: 0 if FTHBI == 'N' else (1 if FTHBI == 'Y' else None))"
   ]
  },
  {
   "cell_type": "markdown",
   "id": "6cf9abc7",
   "metadata": {},
   "source": [
    "By now, we have those four features with numerical values, and we can apply Multivariate Imputation by Chained Equations (MICE) \\\n",
    "to solve for missing values"
   ]
  },
  {
   "cell_type": "code",
   "execution_count": 15,
   "id": "415e511a",
   "metadata": {},
   "outputs": [],
   "source": [
    "from sklearn.experimental import enable_iterative_imputer\n",
    "from sklearn.impute import IterativeImputer\n",
    "\n",
    "df_imput = df_train[['DTI', 'BCSAO', 'CBCSAO', 'FTHBI']].copy()\n",
    "imp = IterativeImputer()\n",
    "imp.fit(df_imput)\n",
    "imputed_df = imp.transform(df_imput)\n",
    "imputed_df = pd.DataFrame(imputed_df, columns=df_imput.columns)\n",
    "\n",
    "df_imput1 = df_test[['DTI', 'BCSAO', 'CBCSAO', 'FTHBI']].copy()\n",
    "imp.fit(df_imput1)\n",
    "imputed_df1 = imp.transform(df_imput1)\n",
    "imputed_df1 = pd.DataFrame(imputed_df1, columns=df_imput.columns)"
   ]
  },
  {
   "cell_type": "markdown",
   "id": "3a14a241",
   "metadata": {},
   "source": [
    "Now we have finished with missing values, we need go to deal with categorical features and timefeatures etc."
   ]
  },
  {
   "cell_type": "code",
   "execution_count": 16,
   "id": "9263e440",
   "metadata": {},
   "outputs": [
    {
     "data": {
      "text/html": [
       "<div>\n",
       "<style scoped>\n",
       "    .dataframe tbody tr th:only-of-type {\n",
       "        vertical-align: middle;\n",
       "    }\n",
       "\n",
       "    .dataframe tbody tr th {\n",
       "        vertical-align: top;\n",
       "    }\n",
       "\n",
       "    .dataframe thead th {\n",
       "        text-align: right;\n",
       "    }\n",
       "</style>\n",
       "<table border=\"1\" class=\"dataframe\">\n",
       "  <thead>\n",
       "    <tr style=\"text-align: right;\">\n",
       "      <th></th>\n",
       "      <th>LID</th>\n",
       "      <th>MRP</th>\n",
       "      <th>CHANNEL</th>\n",
       "      <th>SELLER</th>\n",
       "      <th>ORATE</th>\n",
       "      <th>CRATE</th>\n",
       "      <th>OUPB</th>\n",
       "      <th>OLTERM</th>\n",
       "      <th>ODATE</th>\n",
       "      <th>FPD</th>\n",
       "      <th>...</th>\n",
       "      <th>PTYPE</th>\n",
       "      <th>NUNITS</th>\n",
       "      <th>OCCSTAT</th>\n",
       "      <th>STATE</th>\n",
       "      <th>MSA</th>\n",
       "      <th>ZIP</th>\n",
       "      <th>CLDS</th>\n",
       "      <th>RMI</th>\n",
       "      <th>FORECLOSED</th>\n",
       "      <th>NMONTHS</th>\n",
       "    </tr>\n",
       "  </thead>\n",
       "  <tbody>\n",
       "    <tr>\n",
       "      <th>0</th>\n",
       "      <td>8.118470e+11</td>\n",
       "      <td>3/1/2000</td>\n",
       "      <td>C</td>\n",
       "      <td>Suntrust Mortgage Inc.</td>\n",
       "      <td>8.375</td>\n",
       "      <td>8.375</td>\n",
       "      <td>58000</td>\n",
       "      <td>360</td>\n",
       "      <td>7/1/1999</td>\n",
       "      <td>9/1/1999</td>\n",
       "      <td>...</td>\n",
       "      <td>SF</td>\n",
       "      <td>1</td>\n",
       "      <td>P</td>\n",
       "      <td>OK</td>\n",
       "      <td>36420</td>\n",
       "      <td>730</td>\n",
       "      <td>0</td>\n",
       "      <td>N</td>\n",
       "      <td>False</td>\n",
       "      <td>12</td>\n",
       "    </tr>\n",
       "    <tr>\n",
       "      <th>1</th>\n",
       "      <td>9.288980e+11</td>\n",
       "      <td>2/1/2000</td>\n",
       "      <td>C</td>\n",
       "      <td>Amtrust Bank</td>\n",
       "      <td>7.500</td>\n",
       "      <td>7.500</td>\n",
       "      <td>204000</td>\n",
       "      <td>180</td>\n",
       "      <td>12/1/1999</td>\n",
       "      <td>2/1/2000</td>\n",
       "      <td>...</td>\n",
       "      <td>SF</td>\n",
       "      <td>1</td>\n",
       "      <td>P</td>\n",
       "      <td>WA</td>\n",
       "      <td>48300</td>\n",
       "      <td>988</td>\n",
       "      <td>0</td>\n",
       "      <td>N</td>\n",
       "      <td>False</td>\n",
       "      <td>21</td>\n",
       "    </tr>\n",
       "    <tr>\n",
       "      <th>2</th>\n",
       "      <td>2.229740e+11</td>\n",
       "      <td>1/1/2000</td>\n",
       "      <td>C</td>\n",
       "      <td>Jpmorgan Chase Bank, Na</td>\n",
       "      <td>7.750</td>\n",
       "      <td>7.750</td>\n",
       "      <td>181000</td>\n",
       "      <td>360</td>\n",
       "      <td>12/1/1999</td>\n",
       "      <td>2/1/2000</td>\n",
       "      <td>...</td>\n",
       "      <td>SF</td>\n",
       "      <td>1</td>\n",
       "      <td>P</td>\n",
       "      <td>VA</td>\n",
       "      <td>40060</td>\n",
       "      <td>238</td>\n",
       "      <td>0</td>\n",
       "      <td>N</td>\n",
       "      <td>False</td>\n",
       "      <td>54</td>\n",
       "    </tr>\n",
       "    <tr>\n",
       "      <th>3</th>\n",
       "      <td>5.939500e+11</td>\n",
       "      <td>2/1/2000</td>\n",
       "      <td>B</td>\n",
       "      <td>Bank Of America, N.A.</td>\n",
       "      <td>8.625</td>\n",
       "      <td>8.625</td>\n",
       "      <td>135000</td>\n",
       "      <td>360</td>\n",
       "      <td>1/1/2000</td>\n",
       "      <td>3/1/2000</td>\n",
       "      <td>...</td>\n",
       "      <td>PU</td>\n",
       "      <td>1</td>\n",
       "      <td>P</td>\n",
       "      <td>AZ</td>\n",
       "      <td>38060</td>\n",
       "      <td>852</td>\n",
       "      <td>0</td>\n",
       "      <td>N</td>\n",
       "      <td>False</td>\n",
       "      <td>16</td>\n",
       "    </tr>\n",
       "    <tr>\n",
       "      <th>4</th>\n",
       "      <td>6.773390e+11</td>\n",
       "      <td>2/1/2000</td>\n",
       "      <td>C</td>\n",
       "      <td>Other</td>\n",
       "      <td>7.750</td>\n",
       "      <td>7.750</td>\n",
       "      <td>189000</td>\n",
       "      <td>360</td>\n",
       "      <td>12/1/1999</td>\n",
       "      <td>2/1/2000</td>\n",
       "      <td>...</td>\n",
       "      <td>SF</td>\n",
       "      <td>1</td>\n",
       "      <td>P</td>\n",
       "      <td>IN</td>\n",
       "      <td>29140</td>\n",
       "      <td>479</td>\n",
       "      <td>0</td>\n",
       "      <td>N</td>\n",
       "      <td>False</td>\n",
       "      <td>14</td>\n",
       "    </tr>\n",
       "    <tr>\n",
       "      <th>...</th>\n",
       "      <td>...</td>\n",
       "      <td>...</td>\n",
       "      <td>...</td>\n",
       "      <td>...</td>\n",
       "      <td>...</td>\n",
       "      <td>...</td>\n",
       "      <td>...</td>\n",
       "      <td>...</td>\n",
       "      <td>...</td>\n",
       "      <td>...</td>\n",
       "      <td>...</td>\n",
       "      <td>...</td>\n",
       "      <td>...</td>\n",
       "      <td>...</td>\n",
       "      <td>...</td>\n",
       "      <td>...</td>\n",
       "      <td>...</td>\n",
       "      <td>...</td>\n",
       "      <td>...</td>\n",
       "      <td>...</td>\n",
       "      <td>...</td>\n",
       "    </tr>\n",
       "    <tr>\n",
       "      <th>164570</th>\n",
       "      <td>8.194500e+11</td>\n",
       "      <td>2/1/2000</td>\n",
       "      <td>C</td>\n",
       "      <td>Amtrust Bank</td>\n",
       "      <td>7.875</td>\n",
       "      <td>7.875</td>\n",
       "      <td>106000</td>\n",
       "      <td>180</td>\n",
       "      <td>11/1/1999</td>\n",
       "      <td>1/1/2000</td>\n",
       "      <td>...</td>\n",
       "      <td>SF</td>\n",
       "      <td>1</td>\n",
       "      <td>I</td>\n",
       "      <td>MI</td>\n",
       "      <td>11460</td>\n",
       "      <td>481</td>\n",
       "      <td>0</td>\n",
       "      <td>N</td>\n",
       "      <td>False</td>\n",
       "      <td>24</td>\n",
       "    </tr>\n",
       "    <tr>\n",
       "      <th>164571</th>\n",
       "      <td>6.558220e+11</td>\n",
       "      <td>3/1/2000</td>\n",
       "      <td>R</td>\n",
       "      <td>Jpmorgan Chase Bank, Na</td>\n",
       "      <td>8.000</td>\n",
       "      <td>8.000</td>\n",
       "      <td>144000</td>\n",
       "      <td>180</td>\n",
       "      <td>2/1/2000</td>\n",
       "      <td>4/1/2000</td>\n",
       "      <td>...</td>\n",
       "      <td>SF</td>\n",
       "      <td>1</td>\n",
       "      <td>P</td>\n",
       "      <td>CA</td>\n",
       "      <td>41740</td>\n",
       "      <td>920</td>\n",
       "      <td>0</td>\n",
       "      <td>N</td>\n",
       "      <td>False</td>\n",
       "      <td>19</td>\n",
       "    </tr>\n",
       "    <tr>\n",
       "      <th>164572</th>\n",
       "      <td>6.577330e+11</td>\n",
       "      <td>3/1/2000</td>\n",
       "      <td>R</td>\n",
       "      <td>First Tennessee Bank National Association</td>\n",
       "      <td>8.250</td>\n",
       "      <td>8.250</td>\n",
       "      <td>88000</td>\n",
       "      <td>360</td>\n",
       "      <td>2/1/2000</td>\n",
       "      <td>3/1/2000</td>\n",
       "      <td>...</td>\n",
       "      <td>SF</td>\n",
       "      <td>1</td>\n",
       "      <td>P</td>\n",
       "      <td>WV</td>\n",
       "      <td>26580</td>\n",
       "      <td>255</td>\n",
       "      <td>0</td>\n",
       "      <td>N</td>\n",
       "      <td>False</td>\n",
       "      <td>12</td>\n",
       "    </tr>\n",
       "    <tr>\n",
       "      <th>164573</th>\n",
       "      <td>3.145290e+11</td>\n",
       "      <td>1/1/2000</td>\n",
       "      <td>R</td>\n",
       "      <td>Ge Mortgage Services, Llc</td>\n",
       "      <td>7.875</td>\n",
       "      <td>7.875</td>\n",
       "      <td>99000</td>\n",
       "      <td>240</td>\n",
       "      <td>10/1/1999</td>\n",
       "      <td>12/1/1999</td>\n",
       "      <td>...</td>\n",
       "      <td>SF</td>\n",
       "      <td>1</td>\n",
       "      <td>P</td>\n",
       "      <td>NY</td>\n",
       "      <td>35620</td>\n",
       "      <td>115</td>\n",
       "      <td>0</td>\n",
       "      <td>N</td>\n",
       "      <td>False</td>\n",
       "      <td>217</td>\n",
       "    </tr>\n",
       "    <tr>\n",
       "      <th>164574</th>\n",
       "      <td>8.571750e+11</td>\n",
       "      <td>1/1/2000</td>\n",
       "      <td>R</td>\n",
       "      <td>Rbc Mortgage Company</td>\n",
       "      <td>7.750</td>\n",
       "      <td>7.750</td>\n",
       "      <td>132000</td>\n",
       "      <td>360</td>\n",
       "      <td>12/1/1999</td>\n",
       "      <td>2/1/2000</td>\n",
       "      <td>...</td>\n",
       "      <td>SF</td>\n",
       "      <td>1</td>\n",
       "      <td>S</td>\n",
       "      <td>OR</td>\n",
       "      <td>0</td>\n",
       "      <td>971</td>\n",
       "      <td>0</td>\n",
       "      <td>N</td>\n",
       "      <td>False</td>\n",
       "      <td>35</td>\n",
       "    </tr>\n",
       "  </tbody>\n",
       "</table>\n",
       "<p>164575 rows × 31 columns</p>\n",
       "</div>"
      ],
      "text/plain": [
       "                 LID       MRP CHANNEL  \\\n",
       "0       8.118470e+11  3/1/2000       C   \n",
       "1       9.288980e+11  2/1/2000       C   \n",
       "2       2.229740e+11  1/1/2000       C   \n",
       "3       5.939500e+11  2/1/2000       B   \n",
       "4       6.773390e+11  2/1/2000       C   \n",
       "...              ...       ...     ...   \n",
       "164570  8.194500e+11  2/1/2000       C   \n",
       "164571  6.558220e+11  3/1/2000       R   \n",
       "164572  6.577330e+11  3/1/2000       R   \n",
       "164573  3.145290e+11  1/1/2000       R   \n",
       "164574  8.571750e+11  1/1/2000       R   \n",
       "\n",
       "                                           SELLER  ORATE  CRATE    OUPB  \\\n",
       "0                          Suntrust Mortgage Inc.  8.375  8.375   58000   \n",
       "1                                    Amtrust Bank  7.500  7.500  204000   \n",
       "2                         Jpmorgan Chase Bank, Na  7.750  7.750  181000   \n",
       "3                           Bank Of America, N.A.  8.625  8.625  135000   \n",
       "4                                           Other  7.750  7.750  189000   \n",
       "...                                           ...    ...    ...     ...   \n",
       "164570                               Amtrust Bank  7.875  7.875  106000   \n",
       "164571                    Jpmorgan Chase Bank, Na  8.000  8.000  144000   \n",
       "164572  First Tennessee Bank National Association  8.250  8.250   88000   \n",
       "164573                  Ge Mortgage Services, Llc  7.875  7.875   99000   \n",
       "164574                       Rbc Mortgage Company  7.750  7.750  132000   \n",
       "\n",
       "        OLTERM      ODATE        FPD  ...  PTYPE  NUNITS  OCCSTAT  STATE  \\\n",
       "0          360   7/1/1999   9/1/1999  ...     SF       1        P     OK   \n",
       "1          180  12/1/1999   2/1/2000  ...     SF       1        P     WA   \n",
       "2          360  12/1/1999   2/1/2000  ...     SF       1        P     VA   \n",
       "3          360   1/1/2000   3/1/2000  ...     PU       1        P     AZ   \n",
       "4          360  12/1/1999   2/1/2000  ...     SF       1        P     IN   \n",
       "...        ...        ...        ...  ...    ...     ...      ...    ...   \n",
       "164570     180  11/1/1999   1/1/2000  ...     SF       1        I     MI   \n",
       "164571     180   2/1/2000   4/1/2000  ...     SF       1        P     CA   \n",
       "164572     360   2/1/2000   3/1/2000  ...     SF       1        P     WV   \n",
       "164573     240  10/1/1999  12/1/1999  ...     SF       1        P     NY   \n",
       "164574     360  12/1/1999   2/1/2000  ...     SF       1        S     OR   \n",
       "\n",
       "          MSA  ZIP  CLDS  RMI  FORECLOSED  NMONTHS  \n",
       "0       36420  730     0    N       False       12  \n",
       "1       48300  988     0    N       False       21  \n",
       "2       40060  238     0    N       False       54  \n",
       "3       38060  852     0    N       False       16  \n",
       "4       29140  479     0    N       False       14  \n",
       "...       ...  ...   ...  ...         ...      ...  \n",
       "164570  11460  481     0    N       False       24  \n",
       "164571  41740  920     0    N       False       19  \n",
       "164572  26580  255     0    N       False       12  \n",
       "164573  35620  115     0    N       False      217  \n",
       "164574      0  971     0    N       False       35  \n",
       "\n",
       "[164575 rows x 31 columns]"
      ]
     },
     "execution_count": 16,
     "metadata": {},
     "output_type": "execute_result"
    }
   ],
   "source": [
    "df_train"
   ]
  },
  {
   "cell_type": "code",
   "execution_count": 17,
   "id": "cebae63e",
   "metadata": {},
   "outputs": [],
   "source": [
    "df_train = pd.concat([df_train.iloc[:,0:16],imputed_df,df_train.iloc[:,20:]], axis=1)\n",
    "df_test = pd.concat([df_test.iloc[:,0:16],imputed_df1,df_test.iloc[:,20:]], axis=1)"
   ]
  },
  {
   "cell_type": "code",
   "execution_count": 18,
   "id": "00e119d4",
   "metadata": {},
   "outputs": [
    {
     "data": {
      "text/plain": [
       "LID           0\n",
       "MRP           0\n",
       "CHANNEL       0\n",
       "SELLER        0\n",
       "ORATE         0\n",
       "CRATE         0\n",
       "OUPB          0\n",
       "OLTERM        0\n",
       "ODATE         0\n",
       "FPD           0\n",
       "LA            0\n",
       "TMTLM         0\n",
       "RMTM          0\n",
       "MDATE         0\n",
       "LOTV          0\n",
       "NB            0\n",
       "DTI           0\n",
       "BCSAO         0\n",
       "CBCSAO        0\n",
       "FTHBI         0\n",
       "LP            0\n",
       "PTYPE         0\n",
       "NUNITS        0\n",
       "OCCSTAT       0\n",
       "STATE         0\n",
       "MSA           0\n",
       "ZIP           0\n",
       "CLDS          0\n",
       "RMI           0\n",
       "FORECLOSED    0\n",
       "NMONTHS       0\n",
       "dtype: int64"
      ]
     },
     "execution_count": 18,
     "metadata": {},
     "output_type": "execute_result"
    }
   ],
   "source": [
    "df_train.isnull().sum()"
   ]
  },
  {
   "cell_type": "markdown",
   "id": "5bd75a8d",
   "metadata": {},
   "source": [
    "there are some columns with binary values, lets start with the easiest first, RMI is the only one we need to fix"
   ]
  },
  {
   "cell_type": "code",
   "execution_count": 19,
   "id": "3d1aa372",
   "metadata": {},
   "outputs": [
    {
     "data": {
      "text/plain": [
       "RMI\n",
       "0    162948\n",
       "1      1627\n",
       "Name: RMI, dtype: int64"
      ]
     },
     "execution_count": 19,
     "metadata": {},
     "output_type": "execute_result"
    }
   ],
   "source": [
    "df_train[\"RMI\"] = df_train[\"RMI\"].apply(lambda RMI: 0 if RMI == 'N' else 1)\n",
    "df_test[\"RMI\"] = df_test[\"RMI\"].apply(lambda RMI: 0 if RMI == 'N' else 1)\n",
    "df_train.groupby(['RMI'])['RMI'].count()"
   ]
  },
  {
   "cell_type": "markdown",
   "id": "6bce226d",
   "metadata": {},
   "source": [
    "Then I would like to deal with features with lots of categories : STATES SELLER ODATE FPD, I use the method group by counts"
   ]
  },
  {
   "cell_type": "code",
   "execution_count": 20,
   "id": "64198696",
   "metadata": {},
   "outputs": [],
   "source": [
    "encodings = df_train.groupby(['SELLER'])['SELLER'].count().to_dict()\n",
    "df_train['SELLER'] = df_train['SELLER'].map(encodings)\n",
    "encodings = df_test.groupby(['SELLER'])['SELLER'].count().to_dict()\n",
    "df_test['SELLER'] = df_test['SELLER'].map(encodings)"
   ]
  },
  {
   "cell_type": "code",
   "execution_count": 21,
   "id": "213468d7",
   "metadata": {},
   "outputs": [],
   "source": [
    "encodings = df_train.groupby(['STATE'])['STATE'].count().to_dict()\n",
    "df_train['STATE'] = df_train['STATE'].map(encodings)\n",
    "encodings = df_test.groupby(['STATE'])['STATE'].count().to_dict()\n",
    "df_test['STATE'] = df_test['STATE'].map(encodings)"
   ]
  },
  {
   "cell_type": "code",
   "execution_count": 22,
   "id": "cd64c99b",
   "metadata": {},
   "outputs": [],
   "source": [
    "encodings = df_train.groupby(['ODATE'])['ODATE'].count().to_dict()\n",
    "df_train['ODATE'] = df_train['ODATE'].map(encodings)\n",
    "encodings = df_test.groupby(['ODATE'])['ODATE'].count().to_dict()\n",
    "df_test['ODATE'] = df_test['ODATE'].map(encodings)"
   ]
  },
  {
   "cell_type": "code",
   "execution_count": 23,
   "id": "e6fef01f",
   "metadata": {},
   "outputs": [],
   "source": [
    "encodings = df_train.groupby(['FPD'])['FPD'].count().to_dict()\n",
    "df_train['FPD'] = df_train['FPD'].map(encodings)\n",
    "encodings = df_test.groupby(['FPD'])['FPD'].count().to_dict()\n",
    "df_test['FPD'] = df_test['FPD'].map(encodings)"
   ]
  },
  {
   "cell_type": "markdown",
   "id": "d002dcbc",
   "metadata": {},
   "source": [
    "For the rest of the column features, the category is most to be 5, I decide to encode them together using label encoding method instead"
   ]
  },
  {
   "cell_type": "code",
   "execution_count": 24,
   "id": "5248d8d8",
   "metadata": {},
   "outputs": [],
   "source": [
    "other_categorical_cols = ['MRP','CHANNEL','LP','PTYPE','OCCSTAT',\"CLDS\"]\n",
    "for col in df_train.columns:\n",
    "    if col in other_categorical_cols:\n",
    "        a={}\n",
    "        for i in range(len(df_train[col].unique())):\n",
    "            a[df_train[col].unique()[i]]=i\n",
    "        work=df_train[col].map(a)\n",
    "        df_train[col]=work\n",
    "\n",
    "for col in df_test.columns:\n",
    "    if col in other_categorical_cols:\n",
    "        a={}\n",
    "        for i in range(len(df_test[col].unique())):\n",
    "            a[df_test[col].unique()[i]]=i\n",
    "        work=df_test[col].map(a)\n",
    "        df_test[col]=work"
   ]
  },
  {
   "cell_type": "code",
   "execution_count": 25,
   "id": "591b04d8",
   "metadata": {},
   "outputs": [],
   "source": [
    "X_train = df_train.iloc[:,1:-2]\n",
    "X_test = df_test.iloc[:,1:]\n",
    "Y_train = df_train['NMONTHS']\n",
    "Y_train = Y_train.to_numpy()"
   ]
  },
  {
   "cell_type": "code",
   "execution_count": 26,
   "id": "9a44073f",
   "metadata": {},
   "outputs": [],
   "source": [
    "names_train = X_train.columns.values\n",
    "names_test = X_test.columns.values"
   ]
  },
  {
   "cell_type": "code",
   "execution_count": 27,
   "id": "8a937f4c",
   "metadata": {},
   "outputs": [],
   "source": [
    "from sklearn.preprocessing import StandardScaler\n",
    "ss = StandardScaler()\n",
    "ss.fit(X_train)\n",
    "X_train = ss.transform(X_train)\n",
    "X_train = pd.DataFrame(X_train, columns = names_train )\n",
    "X_test = ss.transform(X_test)\n",
    "X_test = pd.DataFrame(X_test, columns = names_test )"
   ]
  },
  {
   "cell_type": "code",
   "execution_count": 28,
   "id": "015e7632",
   "metadata": {},
   "outputs": [],
   "source": [
    "from sklearn.linear_model import LogisticRegression\n",
    "LR = LogisticRegression(random_state=0, tol=1e-5, n_jobs = -1)\n",
    "Y_train_foreclosed = df_train['FORECLOSED']\n",
    "LR.fit(X_train,Y_train_foreclosed)\n",
    "train_acc = LR.score(X_train,Y_train_foreclosed)"
   ]
  },
  {
   "cell_type": "code",
   "execution_count": 29,
   "id": "b27a6367",
   "metadata": {},
   "outputs": [],
   "source": [
    "test_pred = LR.predict(X_test)"
   ]
  },
  {
   "cell_type": "code",
   "execution_count": 30,
   "id": "a991d1f2",
   "metadata": {},
   "outputs": [],
   "source": [
    "FORCLOSED_predict = pd.DataFrame(test_pred,columns = ['FORCLOSED'])"
   ]
  },
  {
   "cell_type": "code",
   "execution_count": 31,
   "id": "2041bf12",
   "metadata": {},
   "outputs": [
    {
     "data": {
      "text/plain": [
       "FORCLOSED\n",
       "False        82282\n",
       "True             6\n",
       "dtype: int64"
      ]
     },
     "execution_count": 31,
     "metadata": {},
     "output_type": "execute_result"
    }
   ],
   "source": [
    "FORCLOSED_predict.value_counts()"
   ]
  },
  {
   "cell_type": "code",
   "execution_count": 32,
   "id": "2d8a19cd",
   "metadata": {},
   "outputs": [
    {
     "data": {
      "text/plain": [
       "False    162328\n",
       "True       2247\n",
       "Name: FORECLOSED, dtype: int64"
      ]
     },
     "execution_count": 32,
     "metadata": {},
     "output_type": "execute_result"
    }
   ],
   "source": [
    "df_train['FORECLOSED'].value_counts()"
   ]
  },
  {
   "cell_type": "code",
   "execution_count": 33,
   "id": "9c286c30",
   "metadata": {},
   "outputs": [
    {
     "name": "stdout",
     "output_type": "stream",
     "text": [
      "Counter({False: 162328, True: 162328})\n"
     ]
    }
   ],
   "source": [
    "from imblearn.over_sampling import SMOTE\n",
    "from collections import Counter\n",
    "oversample = SMOTE()\n",
    "X, y = oversample.fit_resample(X_train,Y_train_foreclosed)\n",
    "counter = Counter(y)\n",
    "print(counter)"
   ]
  },
  {
   "cell_type": "code",
   "execution_count": 34,
   "id": "01648b3a",
   "metadata": {},
   "outputs": [
    {
     "data": {
      "text/plain": [
       "0.7831704943078212"
      ]
     },
     "execution_count": 34,
     "metadata": {},
     "output_type": "execute_result"
    }
   ],
   "source": [
    "LR.fit(X,y)\n",
    "train_acc = LR.score(X,y)\n",
    "train_acc "
   ]
  },
  {
   "cell_type": "code",
   "execution_count": 35,
   "id": "b6eddf42",
   "metadata": {},
   "outputs": [],
   "source": [
    "test_pred = LR.predict(X_test)"
   ]
  },
  {
   "cell_type": "code",
   "execution_count": 36,
   "id": "ea370676",
   "metadata": {},
   "outputs": [
    {
     "data": {
      "text/plain": [
       "FORCLOSED\n",
       "False        57313\n",
       "True         24975\n",
       "dtype: int64"
      ]
     },
     "execution_count": 36,
     "metadata": {},
     "output_type": "execute_result"
    }
   ],
   "source": [
    "FORCLOSED_predict_balanced = pd.DataFrame(test_pred,columns = ['FORCLOSED'])\n",
    "FORCLOSED_predict_balanced.value_counts()"
   ]
  },
  {
   "cell_type": "code",
   "execution_count": 37,
   "id": "d1732a53",
   "metadata": {},
   "outputs": [],
   "source": [
    "pred_proba = LR.predict_proba(X_test)[:,1]"
   ]
  },
  {
   "cell_type": "code",
   "execution_count": 38,
   "id": "6a7bc87a",
   "metadata": {},
   "outputs": [],
   "source": [
    "pred_proba =  pd.DataFrame(pred_proba,columns = ['pre_proba'])"
   ]
  },
  {
   "cell_type": "code",
   "execution_count": 39,
   "id": "e8c2a627",
   "metadata": {},
   "outputs": [],
   "source": [
    "df_FORECLOSED = pd.concat([df_test.iloc[:,:1],FORCLOSED_predict_balanced,pred_proba], axis=1 )"
   ]
  },
  {
   "cell_type": "code",
   "execution_count": 40,
   "id": "f781e966",
   "metadata": {},
   "outputs": [],
   "source": [
    "#df_FORECLOSED.sort_values(by='pre_proba', ascending=False)"
   ]
  },
  {
   "cell_type": "code",
   "execution_count": 41,
   "id": "e2098722",
   "metadata": {},
   "outputs": [
    {
     "data": {
      "text/html": [
       "<div>\n",
       "<style scoped>\n",
       "    .dataframe tbody tr th:only-of-type {\n",
       "        vertical-align: middle;\n",
       "    }\n",
       "\n",
       "    .dataframe tbody tr th {\n",
       "        vertical-align: top;\n",
       "    }\n",
       "\n",
       "    .dataframe thead th {\n",
       "        text-align: right;\n",
       "    }\n",
       "</style>\n",
       "<table border=\"1\" class=\"dataframe\">\n",
       "  <thead>\n",
       "    <tr style=\"text-align: right;\">\n",
       "      <th></th>\n",
       "      <th>LID</th>\n",
       "      <th>pre_proba</th>\n",
       "    </tr>\n",
       "  </thead>\n",
       "  <tbody>\n",
       "    <tr>\n",
       "      <th>0</th>\n",
       "      <td>7.940000e+11</td>\n",
       "      <td>0.200389</td>\n",
       "    </tr>\n",
       "    <tr>\n",
       "      <th>1</th>\n",
       "      <td>2.770000e+11</td>\n",
       "      <td>0.375462</td>\n",
       "    </tr>\n",
       "    <tr>\n",
       "      <th>2</th>\n",
       "      <td>5.070000e+11</td>\n",
       "      <td>0.019029</td>\n",
       "    </tr>\n",
       "    <tr>\n",
       "      <th>3</th>\n",
       "      <td>4.930000e+11</td>\n",
       "      <td>0.282028</td>\n",
       "    </tr>\n",
       "    <tr>\n",
       "      <th>4</th>\n",
       "      <td>8.430000e+11</td>\n",
       "      <td>0.196717</td>\n",
       "    </tr>\n",
       "    <tr>\n",
       "      <th>...</th>\n",
       "      <td>...</td>\n",
       "      <td>...</td>\n",
       "    </tr>\n",
       "    <tr>\n",
       "      <th>82283</th>\n",
       "      <td>6.120000e+11</td>\n",
       "      <td>0.016836</td>\n",
       "    </tr>\n",
       "    <tr>\n",
       "      <th>82284</th>\n",
       "      <td>3.040000e+11</td>\n",
       "      <td>0.630622</td>\n",
       "    </tr>\n",
       "    <tr>\n",
       "      <th>82285</th>\n",
       "      <td>7.180000e+11</td>\n",
       "      <td>0.018502</td>\n",
       "    </tr>\n",
       "    <tr>\n",
       "      <th>82286</th>\n",
       "      <td>6.150000e+11</td>\n",
       "      <td>0.502205</td>\n",
       "    </tr>\n",
       "    <tr>\n",
       "      <th>82287</th>\n",
       "      <td>1.080000e+11</td>\n",
       "      <td>0.142357</td>\n",
       "    </tr>\n",
       "  </tbody>\n",
       "</table>\n",
       "<p>82288 rows × 2 columns</p>\n",
       "</div>"
      ],
      "text/plain": [
       "                LID  pre_proba\n",
       "0      7.940000e+11   0.200389\n",
       "1      2.770000e+11   0.375462\n",
       "2      5.070000e+11   0.019029\n",
       "3      4.930000e+11   0.282028\n",
       "4      8.430000e+11   0.196717\n",
       "...             ...        ...\n",
       "82283  6.120000e+11   0.016836\n",
       "82284  3.040000e+11   0.630622\n",
       "82285  7.180000e+11   0.018502\n",
       "82286  6.150000e+11   0.502205\n",
       "82287  1.080000e+11   0.142357\n",
       "\n",
       "[82288 rows x 2 columns]"
      ]
     },
     "execution_count": 41,
     "metadata": {},
     "output_type": "execute_result"
    }
   ],
   "source": [
    "df_FORECLOSED_R = pd.concat([df_test.iloc[:,:1],pred_proba], axis=1 )\n",
    "df_FORECLOSED_sorted = df_FORECLOSED_R.sort_values(by='pre_proba', ascending=False)\n",
    "df_FORECLOSED_R"
   ]
  },
  {
   "cell_type": "code",
   "execution_count": 42,
   "id": "b9cb7201",
   "metadata": {},
   "outputs": [
    {
     "data": {
      "text/plain": [
       "0.9484147788857582"
      ]
     },
     "execution_count": 42,
     "metadata": {},
     "output_type": "execute_result"
    }
   ],
   "source": [
    "df_FORECLOSED_sorted = df_FORECLOSED_sorted.reset_index(drop=True)\n",
    "threshold = df_FORECLOSED_sorted['pre_proba'][999]\n",
    "threshold"
   ]
  },
  {
   "cell_type": "code",
   "execution_count": 43,
   "id": "a5cbaf30",
   "metadata": {},
   "outputs": [],
   "source": [
    "df_FORECLOSED_R['FORECLOSED'] = df_FORECLOSED_R['pre_proba'].apply(lambda x: True if x >= threshold else False)"
   ]
  },
  {
   "cell_type": "code",
   "execution_count": 44,
   "id": "faabc533",
   "metadata": {},
   "outputs": [
    {
     "data": {
      "text/plain": [
       "False    81288\n",
       "True      1000\n",
       "Name: FORECLOSED, dtype: int64"
      ]
     },
     "execution_count": 44,
     "metadata": {},
     "output_type": "execute_result"
    }
   ],
   "source": [
    "df_FORECLOSED_R['FORECLOSED'].value_counts()"
   ]
  },
  {
   "cell_type": "code",
   "execution_count": 45,
   "id": "20371eed",
   "metadata": {},
   "outputs": [],
   "source": [
    "df_FORECLOSED_R = df_FORECLOSED_R.drop(['pre_proba'],axis = 1)"
   ]
  },
  {
   "cell_type": "code",
   "execution_count": 46,
   "id": "fb70e2b6",
   "metadata": {},
   "outputs": [
    {
     "data": {
      "text/plain": [
       "False    81288\n",
       "True      1000\n",
       "Name: FORECLOSED, dtype: int64"
      ]
     },
     "execution_count": 46,
     "metadata": {},
     "output_type": "execute_result"
    }
   ],
   "source": [
    "df_FORECLOSED_R[\"FORECLOSED\"].value_counts()"
   ]
  },
  {
   "cell_type": "code",
   "execution_count": 47,
   "id": "a64a2b2b",
   "metadata": {},
   "outputs": [],
   "source": [
    "df_FORECLOSED_R.to_csv('FORECLOSERS.csv',index = False)"
   ]
  },
  {
   "cell_type": "code",
   "execution_count": 48,
   "id": "d05b9884",
   "metadata": {},
   "outputs": [
    {
     "data": {
      "text/plain": [
       "LID           FORCLOSED  pre_proba\n",
       "1.000000e+11  False      0.001995     1\n",
       "6.970000e+11  False      0.497665     1\n",
       "6.980000e+11  False      0.157774     1\n",
       "                         0.145775     1\n",
       "                         0.140804     1\n",
       "                                     ..\n",
       "4.000000e+11  True       0.507387     1\n",
       "              False      0.493117     1\n",
       "                         0.477563     1\n",
       "                         0.445534     1\n",
       "1.000000e+12  True       0.959957     1\n",
       "Length: 82288, dtype: int64"
      ]
     },
     "execution_count": 48,
     "metadata": {},
     "output_type": "execute_result"
    }
   ],
   "source": [
    "df_FORECLOSED.value_counts()"
   ]
  },
  {
   "cell_type": "code",
   "execution_count": 49,
   "id": "566ce938",
   "metadata": {},
   "outputs": [],
   "source": [
    "df_foreclosed = df_train.drop(['NMONTHS'],axis = 1)\n",
    "df_foreclosed[\"FORECLOSED\"] = df_foreclosed[\"FORECLOSED\"].apply(lambda x: 0 if x == False else 1)"
   ]
  },
  {
   "cell_type": "code",
   "execution_count": 50,
   "id": "fe50cd7c",
   "metadata": {},
   "outputs": [],
   "source": [
    "N=df_foreclosed.shape[0]\n",
    "perm=np.random.permutation(range(N))\n",
    "df_foreclosed=df_foreclosed.loc[perm]\n",
    "Ntrain=int(.8*N)\n",
    "Ntest=N-Ntrain\n",
    "data_train=df_foreclosed.iloc[0:Ntrain]\n",
    "data_test=df_foreclosed.iloc[Ntrain:N]\n",
    "#data_train.astype('object').dtypes\n",
    "#data_test.astype('object').dtypes\n"
   ]
  },
  {
   "cell_type": "code",
   "execution_count": 51,
   "id": "d2bd80f9",
   "metadata": {
    "scrolled": true
   },
   "outputs": [
    {
     "name": "stderr",
     "output_type": "stream",
     "text": [
      "/Users/bella/opt/anaconda3/lib/python3.8/site-packages/sklearn/utils/validation.py:993: DataConversionWarning: A column-vector y was passed when a 1d array was expected. Please change the shape of y to (n_samples, ), for example using ravel().\n",
      "  y = column_or_1d(y, warn=True)\n"
     ]
    },
    {
     "name": "stdout",
     "output_type": "stream",
     "text": [
      "0.01482427278692725\n",
      "[[8.1250e+00 1.0000e+00 7.1200e+02 ... 1.3330e+04 3.1341e+04 8.1250e+00]\n",
      " [8.5000e+00 2.0000e+00 7.2100e+02 ... 6.5460e+03 3.1341e+04 8.5000e+00]\n",
      " [8.6250e+00 1.0000e+00 7.7900e+02 ... 1.6776e+04 3.1341e+04 8.6250e+00]\n",
      " ...\n",
      " [8.0000e+00 2.0000e+00 7.7800e+02 ... 1.2800e+03 3.1341e+04 8.0000e+00]\n",
      " [7.6250e+00 1.0000e+00 7.6800e+02 ... 1.6776e+04 5.6182e+04 7.6250e+00]\n",
      " [7.8750e+00 2.0000e+00 7.5000e+02 ... 1.3330e+04 5.6182e+04 7.8750e+00]]\n"
     ]
    }
   ],
   "source": [
    "formula = \"FORECLOSED~0+ORATE+NB+BCSAO+MDATE+OUPB+ZIP+CBCSAO+NUNITS+LOTV+CLDS+LP+STATE+ FPD+CRATE+OUPB\"\n",
    "\n",
    "#formula=\"FORECLOSED~0+np.log(ORATE)+np.log(NUNITS)+np.log(DTI)+np.log(BCSAO)+np.log(CBCSAO)+np.log(MDATE)+np.log(NB)+np.log(OUPB)\\\n",
    "#+MRP:CHANNEL+SELLER+ORATE*RMTM+OUPB*OLTERM+ODATE:NB+LP+TMTLM:ZIP+MDATE:LOTV+BCSAO:OUPB+CBCSAO:OUPB+LP*OUPB\\\n",
    "#+PTYPE+NUNITS:MSA+OCCSTAT+STATE*ZIP+NB:ORATE+ORATE:MDATE+OUPB:NB+MDATE:NUNITS+NUNITS**2+ZIP:LA+TMTLM**2\"\n",
    "\n",
    "\n",
    "#formula = \"FORECLOSED~0+ORATE+CLDS+NUNITS+OCCSTAT+LP+CBCSAO+ZIP+FTHBI+CHANNEL+BCSAO+TMTLM+NB+FPD+OUPB+MSA+OLTERM+MRP+STATE+SELLER+MDATE+DTI+\\\n",
    "#np.log(ORATE)+np.log(NUNITS)+np.log(DTI)+np.log(BCSAO)+np.log(CBCSAO)\"\n",
    "\n",
    "#formula=\"FORECLOSED~0+np.log(ORATE)+ORATE+CLDS:LP+np.log(NUNITS)+np.log(FTHBI+LOTV)+OCCSTAT:ORATE+FTHBI*ORATE+LA*LP+PTYPE+np.log(LOTV)\\\n",
    "#+np.log(SELLER)+MRP:ORATE+CHANNEL*OLTERM+RMTM:LA+LOTV:LP+SELLER:STATE+STATE:LP\"\n",
    "Ytrain,Xtrain=ps.dmatrices(formula,data_train)\n",
    "Ytest,Xtest=ps.dmatrices(formula,data_test)\n",
    "Ntest=Ytest.shape[0]\n",
    "reg1= LR.fit(Xtrain,Ytrain)\n",
    "Ytest_pred=reg1.predict(Xtest)\n",
    "MAD = np.mean(np.abs(Ytest-Ytest_pred))\n",
    "print(MAD)\n",
    "print(Xtrain)"
   ]
  },
  {
   "cell_type": "markdown",
   "id": "afbbf887",
   "metadata": {},
   "source": [
    "predict the result"
   ]
  },
  {
   "cell_type": "code",
   "execution_count": 52,
   "id": "7ffcf1d0",
   "metadata": {},
   "outputs": [],
   "source": [
    "X_test['FORECLOSED'] = df_FORECLOSED.FORCLOSED\n",
    "Ytest,Xtest=ps.dmatrices(formula,X_test)"
   ]
  },
  {
   "cell_type": "code",
   "execution_count": 53,
   "id": "f516904c",
   "metadata": {},
   "outputs": [
    {
     "data": {
      "text/html": [
       "<div>\n",
       "<style scoped>\n",
       "    .dataframe tbody tr th:only-of-type {\n",
       "        vertical-align: middle;\n",
       "    }\n",
       "\n",
       "    .dataframe tbody tr th {\n",
       "        vertical-align: top;\n",
       "    }\n",
       "\n",
       "    .dataframe thead th {\n",
       "        text-align: right;\n",
       "    }\n",
       "</style>\n",
       "<table border=\"1\" class=\"dataframe\">\n",
       "  <thead>\n",
       "    <tr style=\"text-align: right;\">\n",
       "      <th></th>\n",
       "      <th>LID</th>\n",
       "      <th>pre_proba_pasty</th>\n",
       "    </tr>\n",
       "  </thead>\n",
       "  <tbody>\n",
       "    <tr>\n",
       "      <th>0</th>\n",
       "      <td>7.940000e+11</td>\n",
       "      <td>0.494891</td>\n",
       "    </tr>\n",
       "    <tr>\n",
       "      <th>1</th>\n",
       "      <td>2.770000e+11</td>\n",
       "      <td>0.505737</td>\n",
       "    </tr>\n",
       "    <tr>\n",
       "      <th>2</th>\n",
       "      <td>5.070000e+11</td>\n",
       "      <td>0.489244</td>\n",
       "    </tr>\n",
       "    <tr>\n",
       "      <th>3</th>\n",
       "      <td>4.930000e+11</td>\n",
       "      <td>0.496226</td>\n",
       "    </tr>\n",
       "    <tr>\n",
       "      <th>4</th>\n",
       "      <td>8.430000e+11</td>\n",
       "      <td>0.502679</td>\n",
       "    </tr>\n",
       "    <tr>\n",
       "      <th>...</th>\n",
       "      <td>...</td>\n",
       "      <td>...</td>\n",
       "    </tr>\n",
       "    <tr>\n",
       "      <th>82283</th>\n",
       "      <td>6.120000e+11</td>\n",
       "      <td>0.471478</td>\n",
       "    </tr>\n",
       "    <tr>\n",
       "      <th>82284</th>\n",
       "      <td>3.040000e+11</td>\n",
       "      <td>0.504251</td>\n",
       "    </tr>\n",
       "    <tr>\n",
       "      <th>82285</th>\n",
       "      <td>7.180000e+11</td>\n",
       "      <td>0.503398</td>\n",
       "    </tr>\n",
       "    <tr>\n",
       "      <th>82286</th>\n",
       "      <td>6.150000e+11</td>\n",
       "      <td>0.501963</td>\n",
       "    </tr>\n",
       "    <tr>\n",
       "      <th>82287</th>\n",
       "      <td>1.080000e+11</td>\n",
       "      <td>0.504014</td>\n",
       "    </tr>\n",
       "  </tbody>\n",
       "</table>\n",
       "<p>82288 rows × 2 columns</p>\n",
       "</div>"
      ],
      "text/plain": [
       "                LID  pre_proba_pasty\n",
       "0      7.940000e+11         0.494891\n",
       "1      2.770000e+11         0.505737\n",
       "2      5.070000e+11         0.489244\n",
       "3      4.930000e+11         0.496226\n",
       "4      8.430000e+11         0.502679\n",
       "...             ...              ...\n",
       "82283  6.120000e+11         0.471478\n",
       "82284  3.040000e+11         0.504251\n",
       "82285  7.180000e+11         0.503398\n",
       "82286  6.150000e+11         0.501963\n",
       "82287  1.080000e+11         0.504014\n",
       "\n",
       "[82288 rows x 2 columns]"
      ]
     },
     "execution_count": 53,
     "metadata": {},
     "output_type": "execute_result"
    }
   ],
   "source": [
    "pred_proba_pasty = reg1.predict_proba(Xtest)[:,1]\n",
    "pred_proba_pasty =  pd.DataFrame(pred_proba_pasty,columns = ['pre_proba_pasty'])\n",
    "df_FORECLOSED_pasty = pd.concat([df_test.iloc[:,:1],pred_proba_pasty], axis=1 )\n",
    "df_FORECLOSED_pasty_sorted = df_FORECLOSED_pasty.sort_values(by='pre_proba_pasty', ascending=False)\n",
    "df_FORECLOSED_pasty "
   ]
  },
  {
   "cell_type": "code",
   "execution_count": 54,
   "id": "27a369ac",
   "metadata": {},
   "outputs": [
    {
     "data": {
      "text/plain": [
       "0.5123861697817735"
      ]
     },
     "execution_count": 54,
     "metadata": {},
     "output_type": "execute_result"
    }
   ],
   "source": [
    "df_FORECLOSED_pasty_sorted = df_FORECLOSED_pasty_sorted.reset_index(drop=True)\n",
    "threshold = df_FORECLOSED_pasty_sorted['pre_proba_pasty'][999]\n",
    "threshold"
   ]
  },
  {
   "cell_type": "code",
   "execution_count": 55,
   "id": "5f782a34",
   "metadata": {},
   "outputs": [],
   "source": [
    "df_FORECLOSED_pasty['FORECLOSED'] = df_FORECLOSED_pasty['pre_proba_pasty'].apply(lambda x: True if x >= threshold else False)"
   ]
  },
  {
   "cell_type": "code",
   "execution_count": 56,
   "id": "41fe8717",
   "metadata": {},
   "outputs": [
    {
     "data": {
      "text/plain": [
       "False    81288\n",
       "True      1000\n",
       "Name: FORECLOSED, dtype: int64"
      ]
     },
     "execution_count": 56,
     "metadata": {},
     "output_type": "execute_result"
    }
   ],
   "source": [
    "df_FORECLOSED_pasty['FORECLOSED'].value_counts()"
   ]
  },
  {
   "cell_type": "code",
   "execution_count": 57,
   "id": "eb60d176",
   "metadata": {},
   "outputs": [],
   "source": [
    "df_FORECLOSED_pasty = df_FORECLOSED_pasty.drop([\"pre_proba_pasty\"],axis = 1)"
   ]
  },
  {
   "cell_type": "code",
   "execution_count": 58,
   "id": "df688624",
   "metadata": {
    "scrolled": true
   },
   "outputs": [
    {
     "data": {
      "text/html": [
       "<div>\n",
       "<style scoped>\n",
       "    .dataframe tbody tr th:only-of-type {\n",
       "        vertical-align: middle;\n",
       "    }\n",
       "\n",
       "    .dataframe tbody tr th {\n",
       "        vertical-align: top;\n",
       "    }\n",
       "\n",
       "    .dataframe thead th {\n",
       "        text-align: right;\n",
       "    }\n",
       "</style>\n",
       "<table border=\"1\" class=\"dataframe\">\n",
       "  <thead>\n",
       "    <tr style=\"text-align: right;\">\n",
       "      <th></th>\n",
       "      <th>LID</th>\n",
       "      <th>FORECLOSED</th>\n",
       "    </tr>\n",
       "  </thead>\n",
       "  <tbody>\n",
       "    <tr>\n",
       "      <th>0</th>\n",
       "      <td>7.940000e+11</td>\n",
       "      <td>False</td>\n",
       "    </tr>\n",
       "    <tr>\n",
       "      <th>1</th>\n",
       "      <td>2.770000e+11</td>\n",
       "      <td>False</td>\n",
       "    </tr>\n",
       "    <tr>\n",
       "      <th>2</th>\n",
       "      <td>5.070000e+11</td>\n",
       "      <td>False</td>\n",
       "    </tr>\n",
       "    <tr>\n",
       "      <th>3</th>\n",
       "      <td>4.930000e+11</td>\n",
       "      <td>False</td>\n",
       "    </tr>\n",
       "    <tr>\n",
       "      <th>4</th>\n",
       "      <td>8.430000e+11</td>\n",
       "      <td>False</td>\n",
       "    </tr>\n",
       "    <tr>\n",
       "      <th>...</th>\n",
       "      <td>...</td>\n",
       "      <td>...</td>\n",
       "    </tr>\n",
       "    <tr>\n",
       "      <th>82283</th>\n",
       "      <td>6.120000e+11</td>\n",
       "      <td>False</td>\n",
       "    </tr>\n",
       "    <tr>\n",
       "      <th>82284</th>\n",
       "      <td>3.040000e+11</td>\n",
       "      <td>False</td>\n",
       "    </tr>\n",
       "    <tr>\n",
       "      <th>82285</th>\n",
       "      <td>7.180000e+11</td>\n",
       "      <td>False</td>\n",
       "    </tr>\n",
       "    <tr>\n",
       "      <th>82286</th>\n",
       "      <td>6.150000e+11</td>\n",
       "      <td>False</td>\n",
       "    </tr>\n",
       "    <tr>\n",
       "      <th>82287</th>\n",
       "      <td>1.080000e+11</td>\n",
       "      <td>False</td>\n",
       "    </tr>\n",
       "  </tbody>\n",
       "</table>\n",
       "<p>82288 rows × 2 columns</p>\n",
       "</div>"
      ],
      "text/plain": [
       "                LID  FORECLOSED\n",
       "0      7.940000e+11       False\n",
       "1      2.770000e+11       False\n",
       "2      5.070000e+11       False\n",
       "3      4.930000e+11       False\n",
       "4      8.430000e+11       False\n",
       "...             ...         ...\n",
       "82283  6.120000e+11       False\n",
       "82284  3.040000e+11       False\n",
       "82285  7.180000e+11       False\n",
       "82286  6.150000e+11       False\n",
       "82287  1.080000e+11       False\n",
       "\n",
       "[82288 rows x 2 columns]"
      ]
     },
     "execution_count": 58,
     "metadata": {},
     "output_type": "execute_result"
    }
   ],
   "source": [
    "df_FORECLOSED_pasty"
   ]
  },
  {
   "cell_type": "code",
   "execution_count": 59,
   "id": "c7cfa99c",
   "metadata": {},
   "outputs": [],
   "source": [
    "#df_FORECLOSED_pasty.to_csv('FORECLOSE.csv',index = False)"
   ]
  },
  {
   "cell_type": "code",
   "execution_count": null,
   "id": "5ed5f6bd",
   "metadata": {},
   "outputs": [],
   "source": []
  }
 ],
 "metadata": {
  "kernelspec": {
   "display_name": "Python 3",
   "language": "python",
   "name": "python3"
  },
  "language_info": {
   "codemirror_mode": {
    "name": "ipython",
    "version": 3
   },
   "file_extension": ".py",
   "mimetype": "text/x-python",
   "name": "python",
   "nbconvert_exporter": "python",
   "pygments_lexer": "ipython3",
   "version": "3.8.8"
  }
 },
 "nbformat": 4,
 "nbformat_minor": 5
}
