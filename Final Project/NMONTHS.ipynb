{
 "cells": [
  {
   "cell_type": "code",
   "execution_count": 1,
   "id": "33fb1d16",
   "metadata": {},
   "outputs": [],
   "source": [
    "import patsy as ps\n",
    "import pandas as pd\n",
    "import numpy as np\n",
    "from sklearn.linear_model import LinearRegression\n",
    "import patsy as ps"
   ]
  },
  {
   "cell_type": "code",
   "execution_count": 2,
   "id": "c8243b56",
   "metadata": {},
   "outputs": [],
   "source": [
    "df_train = pd.read_csv('TRAIN.csv')\n",
    "df_test = pd.read_csv('TEST.csv')"
   ]
  },
  {
   "cell_type": "code",
   "execution_count": 3,
   "id": "16ad7306",
   "metadata": {},
   "outputs": [
    {
     "data": {
      "text/plain": [
       "LID                0\n",
       "MRP                0\n",
       "CHANNEL            0\n",
       "SELLER             0\n",
       "ORATE              0\n",
       "CRATE              0\n",
       "OUPB               0\n",
       "OLTERM             0\n",
       "ODATE              0\n",
       "FPD                0\n",
       "LA                 0\n",
       "TMTLM              0\n",
       "RMTM               0\n",
       "MDATE              0\n",
       "LOTV               1\n",
       "CLTV          163905\n",
       "NB               198\n",
       "DTI             6998\n",
       "BCSAO           3981\n",
       "CBCSAO         82221\n",
       "FTHBI            218\n",
       "LP                 0\n",
       "PTYPE              0\n",
       "NUNITS             0\n",
       "OCCSTAT            0\n",
       "STATE              0\n",
       "MSA                0\n",
       "ZIP                0\n",
       "MIP           110261\n",
       "CLDS               0\n",
       "MIT           110261\n",
       "RMI                0\n",
       "FORECLOSED         0\n",
       "NMONTHS            0\n",
       "dtype: int64"
      ]
     },
     "execution_count": 3,
     "metadata": {},
     "output_type": "execute_result"
    }
   ],
   "source": [
    "df_train.isnull().sum()"
   ]
  },
  {
   "cell_type": "markdown",
   "id": "924b3c21",
   "metadata": {},
   "source": [
    "since there are two many missing info for features: CLTV, MIP, MIT both in training and testing set, I decide to drop those three features."
   ]
  },
  {
   "cell_type": "code",
   "execution_count": 4,
   "id": "a1957073",
   "metadata": {},
   "outputs": [
    {
     "data": {
      "text/html": [
       "<div>\n",
       "<style scoped>\n",
       "    .dataframe tbody tr th:only-of-type {\n",
       "        vertical-align: middle;\n",
       "    }\n",
       "\n",
       "    .dataframe tbody tr th {\n",
       "        vertical-align: top;\n",
       "    }\n",
       "\n",
       "    .dataframe thead th {\n",
       "        text-align: right;\n",
       "    }\n",
       "</style>\n",
       "<table border=\"1\" class=\"dataframe\">\n",
       "  <thead>\n",
       "    <tr style=\"text-align: right;\">\n",
       "      <th></th>\n",
       "      <th>LID</th>\n",
       "      <th>MRP</th>\n",
       "      <th>CHANNEL</th>\n",
       "      <th>SELLER</th>\n",
       "      <th>ORATE</th>\n",
       "      <th>CRATE</th>\n",
       "      <th>OUPB</th>\n",
       "      <th>OLTERM</th>\n",
       "      <th>ODATE</th>\n",
       "      <th>FPD</th>\n",
       "      <th>...</th>\n",
       "      <th>PTYPE</th>\n",
       "      <th>NUNITS</th>\n",
       "      <th>OCCSTAT</th>\n",
       "      <th>STATE</th>\n",
       "      <th>MSA</th>\n",
       "      <th>ZIP</th>\n",
       "      <th>CLDS</th>\n",
       "      <th>RMI</th>\n",
       "      <th>FORECLOSED</th>\n",
       "      <th>NMONTHS</th>\n",
       "    </tr>\n",
       "  </thead>\n",
       "  <tbody>\n",
       "    <tr>\n",
       "      <th>0</th>\n",
       "      <td>8.118470e+11</td>\n",
       "      <td>3/1/2000</td>\n",
       "      <td>C</td>\n",
       "      <td>Suntrust Mortgage Inc.</td>\n",
       "      <td>8.375</td>\n",
       "      <td>8.375</td>\n",
       "      <td>58000</td>\n",
       "      <td>360</td>\n",
       "      <td>7/1/1999</td>\n",
       "      <td>9/1/1999</td>\n",
       "      <td>...</td>\n",
       "      <td>SF</td>\n",
       "      <td>1</td>\n",
       "      <td>P</td>\n",
       "      <td>OK</td>\n",
       "      <td>36420</td>\n",
       "      <td>730</td>\n",
       "      <td>0</td>\n",
       "      <td>N</td>\n",
       "      <td>False</td>\n",
       "      <td>12</td>\n",
       "    </tr>\n",
       "    <tr>\n",
       "      <th>1</th>\n",
       "      <td>9.288980e+11</td>\n",
       "      <td>2/1/2000</td>\n",
       "      <td>C</td>\n",
       "      <td>Amtrust Bank</td>\n",
       "      <td>7.500</td>\n",
       "      <td>7.500</td>\n",
       "      <td>204000</td>\n",
       "      <td>180</td>\n",
       "      <td>12/1/1999</td>\n",
       "      <td>2/1/2000</td>\n",
       "      <td>...</td>\n",
       "      <td>SF</td>\n",
       "      <td>1</td>\n",
       "      <td>P</td>\n",
       "      <td>WA</td>\n",
       "      <td>48300</td>\n",
       "      <td>988</td>\n",
       "      <td>0</td>\n",
       "      <td>N</td>\n",
       "      <td>False</td>\n",
       "      <td>21</td>\n",
       "    </tr>\n",
       "    <tr>\n",
       "      <th>2</th>\n",
       "      <td>2.229740e+11</td>\n",
       "      <td>1/1/2000</td>\n",
       "      <td>C</td>\n",
       "      <td>Jpmorgan Chase Bank, Na</td>\n",
       "      <td>7.750</td>\n",
       "      <td>7.750</td>\n",
       "      <td>181000</td>\n",
       "      <td>360</td>\n",
       "      <td>12/1/1999</td>\n",
       "      <td>2/1/2000</td>\n",
       "      <td>...</td>\n",
       "      <td>SF</td>\n",
       "      <td>1</td>\n",
       "      <td>P</td>\n",
       "      <td>VA</td>\n",
       "      <td>40060</td>\n",
       "      <td>238</td>\n",
       "      <td>0</td>\n",
       "      <td>N</td>\n",
       "      <td>False</td>\n",
       "      <td>54</td>\n",
       "    </tr>\n",
       "    <tr>\n",
       "      <th>3</th>\n",
       "      <td>5.939500e+11</td>\n",
       "      <td>2/1/2000</td>\n",
       "      <td>B</td>\n",
       "      <td>Bank Of America, N.A.</td>\n",
       "      <td>8.625</td>\n",
       "      <td>8.625</td>\n",
       "      <td>135000</td>\n",
       "      <td>360</td>\n",
       "      <td>1/1/2000</td>\n",
       "      <td>3/1/2000</td>\n",
       "      <td>...</td>\n",
       "      <td>PU</td>\n",
       "      <td>1</td>\n",
       "      <td>P</td>\n",
       "      <td>AZ</td>\n",
       "      <td>38060</td>\n",
       "      <td>852</td>\n",
       "      <td>0</td>\n",
       "      <td>N</td>\n",
       "      <td>False</td>\n",
       "      <td>16</td>\n",
       "    </tr>\n",
       "    <tr>\n",
       "      <th>4</th>\n",
       "      <td>6.773390e+11</td>\n",
       "      <td>2/1/2000</td>\n",
       "      <td>C</td>\n",
       "      <td>Other</td>\n",
       "      <td>7.750</td>\n",
       "      <td>7.750</td>\n",
       "      <td>189000</td>\n",
       "      <td>360</td>\n",
       "      <td>12/1/1999</td>\n",
       "      <td>2/1/2000</td>\n",
       "      <td>...</td>\n",
       "      <td>SF</td>\n",
       "      <td>1</td>\n",
       "      <td>P</td>\n",
       "      <td>IN</td>\n",
       "      <td>29140</td>\n",
       "      <td>479</td>\n",
       "      <td>0</td>\n",
       "      <td>N</td>\n",
       "      <td>False</td>\n",
       "      <td>14</td>\n",
       "    </tr>\n",
       "    <tr>\n",
       "      <th>...</th>\n",
       "      <td>...</td>\n",
       "      <td>...</td>\n",
       "      <td>...</td>\n",
       "      <td>...</td>\n",
       "      <td>...</td>\n",
       "      <td>...</td>\n",
       "      <td>...</td>\n",
       "      <td>...</td>\n",
       "      <td>...</td>\n",
       "      <td>...</td>\n",
       "      <td>...</td>\n",
       "      <td>...</td>\n",
       "      <td>...</td>\n",
       "      <td>...</td>\n",
       "      <td>...</td>\n",
       "      <td>...</td>\n",
       "      <td>...</td>\n",
       "      <td>...</td>\n",
       "      <td>...</td>\n",
       "      <td>...</td>\n",
       "      <td>...</td>\n",
       "    </tr>\n",
       "    <tr>\n",
       "      <th>164570</th>\n",
       "      <td>8.194500e+11</td>\n",
       "      <td>2/1/2000</td>\n",
       "      <td>C</td>\n",
       "      <td>Amtrust Bank</td>\n",
       "      <td>7.875</td>\n",
       "      <td>7.875</td>\n",
       "      <td>106000</td>\n",
       "      <td>180</td>\n",
       "      <td>11/1/1999</td>\n",
       "      <td>1/1/2000</td>\n",
       "      <td>...</td>\n",
       "      <td>SF</td>\n",
       "      <td>1</td>\n",
       "      <td>I</td>\n",
       "      <td>MI</td>\n",
       "      <td>11460</td>\n",
       "      <td>481</td>\n",
       "      <td>0</td>\n",
       "      <td>N</td>\n",
       "      <td>False</td>\n",
       "      <td>24</td>\n",
       "    </tr>\n",
       "    <tr>\n",
       "      <th>164571</th>\n",
       "      <td>6.558220e+11</td>\n",
       "      <td>3/1/2000</td>\n",
       "      <td>R</td>\n",
       "      <td>Jpmorgan Chase Bank, Na</td>\n",
       "      <td>8.000</td>\n",
       "      <td>8.000</td>\n",
       "      <td>144000</td>\n",
       "      <td>180</td>\n",
       "      <td>2/1/2000</td>\n",
       "      <td>4/1/2000</td>\n",
       "      <td>...</td>\n",
       "      <td>SF</td>\n",
       "      <td>1</td>\n",
       "      <td>P</td>\n",
       "      <td>CA</td>\n",
       "      <td>41740</td>\n",
       "      <td>920</td>\n",
       "      <td>0</td>\n",
       "      <td>N</td>\n",
       "      <td>False</td>\n",
       "      <td>19</td>\n",
       "    </tr>\n",
       "    <tr>\n",
       "      <th>164572</th>\n",
       "      <td>6.577330e+11</td>\n",
       "      <td>3/1/2000</td>\n",
       "      <td>R</td>\n",
       "      <td>First Tennessee Bank National Association</td>\n",
       "      <td>8.250</td>\n",
       "      <td>8.250</td>\n",
       "      <td>88000</td>\n",
       "      <td>360</td>\n",
       "      <td>2/1/2000</td>\n",
       "      <td>3/1/2000</td>\n",
       "      <td>...</td>\n",
       "      <td>SF</td>\n",
       "      <td>1</td>\n",
       "      <td>P</td>\n",
       "      <td>WV</td>\n",
       "      <td>26580</td>\n",
       "      <td>255</td>\n",
       "      <td>0</td>\n",
       "      <td>N</td>\n",
       "      <td>False</td>\n",
       "      <td>12</td>\n",
       "    </tr>\n",
       "    <tr>\n",
       "      <th>164573</th>\n",
       "      <td>3.145290e+11</td>\n",
       "      <td>1/1/2000</td>\n",
       "      <td>R</td>\n",
       "      <td>Ge Mortgage Services, Llc</td>\n",
       "      <td>7.875</td>\n",
       "      <td>7.875</td>\n",
       "      <td>99000</td>\n",
       "      <td>240</td>\n",
       "      <td>10/1/1999</td>\n",
       "      <td>12/1/1999</td>\n",
       "      <td>...</td>\n",
       "      <td>SF</td>\n",
       "      <td>1</td>\n",
       "      <td>P</td>\n",
       "      <td>NY</td>\n",
       "      <td>35620</td>\n",
       "      <td>115</td>\n",
       "      <td>0</td>\n",
       "      <td>N</td>\n",
       "      <td>False</td>\n",
       "      <td>217</td>\n",
       "    </tr>\n",
       "    <tr>\n",
       "      <th>164574</th>\n",
       "      <td>8.571750e+11</td>\n",
       "      <td>1/1/2000</td>\n",
       "      <td>R</td>\n",
       "      <td>Rbc Mortgage Company</td>\n",
       "      <td>7.750</td>\n",
       "      <td>7.750</td>\n",
       "      <td>132000</td>\n",
       "      <td>360</td>\n",
       "      <td>12/1/1999</td>\n",
       "      <td>2/1/2000</td>\n",
       "      <td>...</td>\n",
       "      <td>SF</td>\n",
       "      <td>1</td>\n",
       "      <td>S</td>\n",
       "      <td>OR</td>\n",
       "      <td>0</td>\n",
       "      <td>971</td>\n",
       "      <td>0</td>\n",
       "      <td>N</td>\n",
       "      <td>False</td>\n",
       "      <td>35</td>\n",
       "    </tr>\n",
       "  </tbody>\n",
       "</table>\n",
       "<p>164575 rows × 31 columns</p>\n",
       "</div>"
      ],
      "text/plain": [
       "                 LID       MRP CHANNEL  \\\n",
       "0       8.118470e+11  3/1/2000       C   \n",
       "1       9.288980e+11  2/1/2000       C   \n",
       "2       2.229740e+11  1/1/2000       C   \n",
       "3       5.939500e+11  2/1/2000       B   \n",
       "4       6.773390e+11  2/1/2000       C   \n",
       "...              ...       ...     ...   \n",
       "164570  8.194500e+11  2/1/2000       C   \n",
       "164571  6.558220e+11  3/1/2000       R   \n",
       "164572  6.577330e+11  3/1/2000       R   \n",
       "164573  3.145290e+11  1/1/2000       R   \n",
       "164574  8.571750e+11  1/1/2000       R   \n",
       "\n",
       "                                           SELLER  ORATE  CRATE    OUPB  \\\n",
       "0                          Suntrust Mortgage Inc.  8.375  8.375   58000   \n",
       "1                                    Amtrust Bank  7.500  7.500  204000   \n",
       "2                         Jpmorgan Chase Bank, Na  7.750  7.750  181000   \n",
       "3                           Bank Of America, N.A.  8.625  8.625  135000   \n",
       "4                                           Other  7.750  7.750  189000   \n",
       "...                                           ...    ...    ...     ...   \n",
       "164570                               Amtrust Bank  7.875  7.875  106000   \n",
       "164571                    Jpmorgan Chase Bank, Na  8.000  8.000  144000   \n",
       "164572  First Tennessee Bank National Association  8.250  8.250   88000   \n",
       "164573                  Ge Mortgage Services, Llc  7.875  7.875   99000   \n",
       "164574                       Rbc Mortgage Company  7.750  7.750  132000   \n",
       "\n",
       "        OLTERM      ODATE        FPD  ...  PTYPE  NUNITS  OCCSTAT  STATE  \\\n",
       "0          360   7/1/1999   9/1/1999  ...     SF       1        P     OK   \n",
       "1          180  12/1/1999   2/1/2000  ...     SF       1        P     WA   \n",
       "2          360  12/1/1999   2/1/2000  ...     SF       1        P     VA   \n",
       "3          360   1/1/2000   3/1/2000  ...     PU       1        P     AZ   \n",
       "4          360  12/1/1999   2/1/2000  ...     SF       1        P     IN   \n",
       "...        ...        ...        ...  ...    ...     ...      ...    ...   \n",
       "164570     180  11/1/1999   1/1/2000  ...     SF       1        I     MI   \n",
       "164571     180   2/1/2000   4/1/2000  ...     SF       1        P     CA   \n",
       "164572     360   2/1/2000   3/1/2000  ...     SF       1        P     WV   \n",
       "164573     240  10/1/1999  12/1/1999  ...     SF       1        P     NY   \n",
       "164574     360  12/1/1999   2/1/2000  ...     SF       1        S     OR   \n",
       "\n",
       "          MSA  ZIP  CLDS  RMI  FORECLOSED NMONTHS  \n",
       "0       36420  730     0    N       False      12  \n",
       "1       48300  988     0    N       False      21  \n",
       "2       40060  238     0    N       False      54  \n",
       "3       38060  852     0    N       False      16  \n",
       "4       29140  479     0    N       False      14  \n",
       "...       ...  ...   ...  ...         ...     ...  \n",
       "164570  11460  481     0    N       False      24  \n",
       "164571  41740  920     0    N       False      19  \n",
       "164572  26580  255     0    N       False      12  \n",
       "164573  35620  115     0    N       False     217  \n",
       "164574      0  971     0    N       False      35  \n",
       "\n",
       "[164575 rows x 31 columns]"
      ]
     },
     "execution_count": 4,
     "metadata": {},
     "output_type": "execute_result"
    }
   ],
   "source": [
    "df_train = df_train.drop(['CLTV','MIP','MIT'],axis = 1)\n",
    "df_test = df_test.drop(['CLTV','MIP','MIT'],axis = 1)\n",
    "df_train"
   ]
  },
  {
   "cell_type": "code",
   "execution_count": 5,
   "id": "38c3c7c5",
   "metadata": {},
   "outputs": [
    {
     "data": {
      "text/plain": [
       "LID               0\n",
       "MRP               0\n",
       "CHANNEL           0\n",
       "SELLER            0\n",
       "ORATE             0\n",
       "CRATE             0\n",
       "OUPB              0\n",
       "OLTERM            0\n",
       "ODATE             0\n",
       "FPD               0\n",
       "LA                0\n",
       "TMTLM             0\n",
       "RMTM              0\n",
       "MDATE             0\n",
       "LOTV              1\n",
       "NB              198\n",
       "DTI            6998\n",
       "BCSAO          3981\n",
       "CBCSAO        82221\n",
       "FTHBI           218\n",
       "LP                0\n",
       "PTYPE             0\n",
       "NUNITS            0\n",
       "OCCSTAT           0\n",
       "STATE             0\n",
       "MSA               0\n",
       "ZIP               0\n",
       "CLDS              0\n",
       "RMI               0\n",
       "FORECLOSED        0\n",
       "NMONTHS           0\n",
       "dtype: int64"
      ]
     },
     "execution_count": 5,
     "metadata": {},
     "output_type": "execute_result"
    }
   ],
   "source": [
    "df_train.isnull().sum()"
   ]
  },
  {
   "cell_type": "markdown",
   "id": "df17f879",
   "metadata": {},
   "source": [
    "Now, there are several feartures left with missing values: LOTV, NB, DTI, BCSAO, CBCSAO, FTHBI, I decide to deal with them individually, \\\n",
    "because the fit for them using same package might not be so accuracte for every features. And I found the testing set have similar \\\n",
    "situation with training set, thus, same operation should be processed with testing set also."
   ]
  },
  {
   "cell_type": "markdown",
   "id": "d2d8702a",
   "metadata": {},
   "source": [
    "Feature: LOTV"
   ]
  },
  {
   "cell_type": "code",
   "execution_count": 6,
   "id": "345dc950",
   "metadata": {},
   "outputs": [
    {
     "data": {
      "text/plain": [
       "LOTV\n",
       "4.0         4\n",
       "5.0         5\n",
       "6.0         5\n",
       "7.0         8\n",
       "8.0        13\n",
       "        ...  \n",
       "93.0     1034\n",
       "94.0     1095\n",
       "95.0    21377\n",
       "96.0       61\n",
       "97.0     5112\n",
       "Name: LOTV, Length: 94, dtype: int64"
      ]
     },
     "execution_count": 6,
     "metadata": {},
     "output_type": "execute_result"
    }
   ],
   "source": [
    "df_train.groupby(['LOTV'])['LOTV'].count()"
   ]
  },
  {
   "cell_type": "markdown",
   "id": "c1c63776",
   "metadata": {},
   "source": [
    "Since for this column, there is only one missing value, and the data type is integer, so I don not need to do transformation for this column, \\\n",
    "I can instead fit the missing line using interpolate() function."
   ]
  },
  {
   "cell_type": "code",
   "execution_count": 7,
   "id": "dafec3e6",
   "metadata": {},
   "outputs": [
    {
     "data": {
      "text/plain": [
       "0"
      ]
     },
     "execution_count": 7,
     "metadata": {},
     "output_type": "execute_result"
    }
   ],
   "source": [
    "df_train['LOTV'].interpolate(method='linear', direction = 'forward', inplace=True)\n",
    "df_test['LOTV'].interpolate(method='linear', direction = 'forward', inplace=True)\n",
    "df_train['LOTV'].isnull().sum()"
   ]
  },
  {
   "cell_type": "markdown",
   "id": "0407eb52",
   "metadata": {},
   "source": [
    "Feature: NB"
   ]
  },
  {
   "cell_type": "code",
   "execution_count": 8,
   "id": "e6314b65",
   "metadata": {},
   "outputs": [
    {
     "data": {
      "text/plain": [
       "NB\n",
       "1.0     65784\n",
       "2.0     96484\n",
       "3.0      1760\n",
       "4.0       322\n",
       "5.0        15\n",
       "6.0         6\n",
       "7.0         2\n",
       "8.0         3\n",
       "10.0        1\n",
       "Name: NB, dtype: int64"
      ]
     },
     "execution_count": 8,
     "metadata": {},
     "output_type": "execute_result"
    }
   ],
   "source": [
    "df_train.groupby(['NB'])['NB'].count()"
   ]
  },
  {
   "cell_type": "markdown",
   "id": "643885bf",
   "metadata": {},
   "source": [
    "For this column, the majority of data is 1.0 or 2.0, so I decide to use fillna method to fit the missing with median(mean is also feasible)."
   ]
  },
  {
   "cell_type": "code",
   "execution_count": 9,
   "id": "0a10ba97",
   "metadata": {},
   "outputs": [
    {
     "data": {
      "text/plain": [
       "0"
      ]
     },
     "execution_count": 9,
     "metadata": {},
     "output_type": "execute_result"
    }
   ],
   "source": [
    "df_train['NB']= df_train['NB'].fillna(df_train['NB'].median())\n",
    "df_test['NB']= df_test['NB'].fillna(df_test['NB'].median())\n",
    "df_train['NB'].isnull().sum()"
   ]
  },
  {
   "cell_type": "markdown",
   "id": "0951ca21",
   "metadata": {},
   "source": [
    "Feature: DTI BCSAO CBCSAO FTHBI"
   ]
  },
  {
   "cell_type": "code",
   "execution_count": 10,
   "id": "d4074ea3",
   "metadata": {},
   "outputs": [
    {
     "data": {
      "text/plain": [
       "DTI\n",
       "1.0      31\n",
       "2.0      47\n",
       "3.0      96\n",
       "4.0     134\n",
       "5.0     139\n",
       "       ... \n",
       "60.0    853\n",
       "61.0    799\n",
       "62.0    774\n",
       "63.0    656\n",
       "64.0    646\n",
       "Name: DTI, Length: 64, dtype: int64"
      ]
     },
     "execution_count": 10,
     "metadata": {},
     "output_type": "execute_result"
    }
   ],
   "source": [
    "df_train.groupby(['DTI'])['DTI'].count()"
   ]
  },
  {
   "cell_type": "code",
   "execution_count": 11,
   "id": "8d260b85",
   "metadata": {},
   "outputs": [
    {
     "data": {
      "text/plain": [
       "BCSAO\n",
       "350.0    2\n",
       "354.0    2\n",
       "372.0    1\n",
       "375.0    1\n",
       "400.0    7\n",
       "        ..\n",
       "834.0    1\n",
       "842.0    1\n",
       "844.0    1\n",
       "845.0    1\n",
       "850.0    1\n",
       "Name: BCSAO, Length: 369, dtype: int64"
      ]
     },
     "execution_count": 11,
     "metadata": {},
     "output_type": "execute_result"
    }
   ],
   "source": [
    "df_train.groupby(['BCSAO'])['BCSAO'].count()"
   ]
  },
  {
   "cell_type": "code",
   "execution_count": 12,
   "id": "b6b0ce95",
   "metadata": {},
   "outputs": [
    {
     "data": {
      "text/plain": [
       "CBCSAO\n",
       "396.0    1\n",
       "400.0    4\n",
       "446.0    1\n",
       "455.0    1\n",
       "459.0    1\n",
       "        ..\n",
       "824.0    4\n",
       "826.0    2\n",
       "828.0    1\n",
       "832.0    1\n",
       "834.0    1\n",
       "Name: CBCSAO, Length: 340, dtype: int64"
      ]
     },
     "execution_count": 12,
     "metadata": {},
     "output_type": "execute_result"
    }
   ],
   "source": [
    "df_train.groupby(['CBCSAO'])['CBCSAO'].count()"
   ]
  },
  {
   "cell_type": "code",
   "execution_count": 13,
   "id": "a695f4dd",
   "metadata": {},
   "outputs": [
    {
     "data": {
      "text/plain": [
       "FTHBI\n",
       "N    137174\n",
       "Y     27183\n",
       "Name: FTHBI, dtype: int64"
      ]
     },
     "execution_count": 13,
     "metadata": {},
     "output_type": "execute_result"
    }
   ],
   "source": [
    "df_train.groupby(['FTHBI'])['FTHBI'].count()"
   ]
  },
  {
   "cell_type": "markdown",
   "id": "2d3a8e80",
   "metadata": {},
   "source": [
    "It looks the column FTHBI is not numerical values, we can make it to numerical by changing to 0 and 1 for this binary situation"
   ]
  },
  {
   "cell_type": "code",
   "execution_count": 14,
   "id": "a2a530cb",
   "metadata": {},
   "outputs": [],
   "source": [
    "df_train[\"FTHBI\"] = df_train[\"FTHBI\"].apply(lambda FTHBI: 0 if FTHBI == 'N' else (1 if FTHBI == 'Y' else None))\n",
    "df_test[\"FTHBI\"] = df_test[\"FTHBI\"].apply(lambda FTHBI: 0 if FTHBI == 'N' else (1 if FTHBI == 'Y' else None))"
   ]
  },
  {
   "cell_type": "markdown",
   "id": "6cf9abc7",
   "metadata": {},
   "source": [
    "By now, we have those four features with numerical values, and we can apply Multivariate Imputation by Chained Equations (MICE) \\\n",
    "to solve for missing values"
   ]
  },
  {
   "cell_type": "code",
   "execution_count": 15,
   "id": "415e511a",
   "metadata": {},
   "outputs": [],
   "source": [
    "from sklearn.experimental import enable_iterative_imputer\n",
    "from sklearn.impute import IterativeImputer\n",
    "\n",
    "df_imput = df_train[['DTI', 'BCSAO', 'CBCSAO', 'FTHBI']].copy()\n",
    "imp = IterativeImputer()\n",
    "imp.fit(df_imput)\n",
    "imputed_df = imp.transform(df_imput)\n",
    "imputed_df = pd.DataFrame(imputed_df, columns=df_imput.columns)\n",
    "\n",
    "df_imput1 = df_test[['DTI', 'BCSAO', 'CBCSAO', 'FTHBI']].copy()\n",
    "imp.fit(df_imput1)\n",
    "imputed_df1 = imp.transform(df_imput1)\n",
    "imputed_df1 = pd.DataFrame(imputed_df1, columns=df_imput.columns)"
   ]
  },
  {
   "cell_type": "markdown",
   "id": "3a14a241",
   "metadata": {},
   "source": [
    "Now we have finished with missing values, we need go to deal with categorical features and timefeatures etc."
   ]
  },
  {
   "cell_type": "code",
   "execution_count": 16,
   "id": "9263e440",
   "metadata": {},
   "outputs": [
    {
     "data": {
      "text/html": [
       "<div>\n",
       "<style scoped>\n",
       "    .dataframe tbody tr th:only-of-type {\n",
       "        vertical-align: middle;\n",
       "    }\n",
       "\n",
       "    .dataframe tbody tr th {\n",
       "        vertical-align: top;\n",
       "    }\n",
       "\n",
       "    .dataframe thead th {\n",
       "        text-align: right;\n",
       "    }\n",
       "</style>\n",
       "<table border=\"1\" class=\"dataframe\">\n",
       "  <thead>\n",
       "    <tr style=\"text-align: right;\">\n",
       "      <th></th>\n",
       "      <th>LID</th>\n",
       "      <th>MRP</th>\n",
       "      <th>CHANNEL</th>\n",
       "      <th>SELLER</th>\n",
       "      <th>ORATE</th>\n",
       "      <th>CRATE</th>\n",
       "      <th>OUPB</th>\n",
       "      <th>OLTERM</th>\n",
       "      <th>ODATE</th>\n",
       "      <th>FPD</th>\n",
       "      <th>...</th>\n",
       "      <th>PTYPE</th>\n",
       "      <th>NUNITS</th>\n",
       "      <th>OCCSTAT</th>\n",
       "      <th>STATE</th>\n",
       "      <th>MSA</th>\n",
       "      <th>ZIP</th>\n",
       "      <th>CLDS</th>\n",
       "      <th>RMI</th>\n",
       "      <th>FORECLOSED</th>\n",
       "      <th>NMONTHS</th>\n",
       "    </tr>\n",
       "  </thead>\n",
       "  <tbody>\n",
       "    <tr>\n",
       "      <th>0</th>\n",
       "      <td>8.118470e+11</td>\n",
       "      <td>3/1/2000</td>\n",
       "      <td>C</td>\n",
       "      <td>Suntrust Mortgage Inc.</td>\n",
       "      <td>8.375</td>\n",
       "      <td>8.375</td>\n",
       "      <td>58000</td>\n",
       "      <td>360</td>\n",
       "      <td>7/1/1999</td>\n",
       "      <td>9/1/1999</td>\n",
       "      <td>...</td>\n",
       "      <td>SF</td>\n",
       "      <td>1</td>\n",
       "      <td>P</td>\n",
       "      <td>OK</td>\n",
       "      <td>36420</td>\n",
       "      <td>730</td>\n",
       "      <td>0</td>\n",
       "      <td>N</td>\n",
       "      <td>False</td>\n",
       "      <td>12</td>\n",
       "    </tr>\n",
       "    <tr>\n",
       "      <th>1</th>\n",
       "      <td>9.288980e+11</td>\n",
       "      <td>2/1/2000</td>\n",
       "      <td>C</td>\n",
       "      <td>Amtrust Bank</td>\n",
       "      <td>7.500</td>\n",
       "      <td>7.500</td>\n",
       "      <td>204000</td>\n",
       "      <td>180</td>\n",
       "      <td>12/1/1999</td>\n",
       "      <td>2/1/2000</td>\n",
       "      <td>...</td>\n",
       "      <td>SF</td>\n",
       "      <td>1</td>\n",
       "      <td>P</td>\n",
       "      <td>WA</td>\n",
       "      <td>48300</td>\n",
       "      <td>988</td>\n",
       "      <td>0</td>\n",
       "      <td>N</td>\n",
       "      <td>False</td>\n",
       "      <td>21</td>\n",
       "    </tr>\n",
       "    <tr>\n",
       "      <th>2</th>\n",
       "      <td>2.229740e+11</td>\n",
       "      <td>1/1/2000</td>\n",
       "      <td>C</td>\n",
       "      <td>Jpmorgan Chase Bank, Na</td>\n",
       "      <td>7.750</td>\n",
       "      <td>7.750</td>\n",
       "      <td>181000</td>\n",
       "      <td>360</td>\n",
       "      <td>12/1/1999</td>\n",
       "      <td>2/1/2000</td>\n",
       "      <td>...</td>\n",
       "      <td>SF</td>\n",
       "      <td>1</td>\n",
       "      <td>P</td>\n",
       "      <td>VA</td>\n",
       "      <td>40060</td>\n",
       "      <td>238</td>\n",
       "      <td>0</td>\n",
       "      <td>N</td>\n",
       "      <td>False</td>\n",
       "      <td>54</td>\n",
       "    </tr>\n",
       "    <tr>\n",
       "      <th>3</th>\n",
       "      <td>5.939500e+11</td>\n",
       "      <td>2/1/2000</td>\n",
       "      <td>B</td>\n",
       "      <td>Bank Of America, N.A.</td>\n",
       "      <td>8.625</td>\n",
       "      <td>8.625</td>\n",
       "      <td>135000</td>\n",
       "      <td>360</td>\n",
       "      <td>1/1/2000</td>\n",
       "      <td>3/1/2000</td>\n",
       "      <td>...</td>\n",
       "      <td>PU</td>\n",
       "      <td>1</td>\n",
       "      <td>P</td>\n",
       "      <td>AZ</td>\n",
       "      <td>38060</td>\n",
       "      <td>852</td>\n",
       "      <td>0</td>\n",
       "      <td>N</td>\n",
       "      <td>False</td>\n",
       "      <td>16</td>\n",
       "    </tr>\n",
       "    <tr>\n",
       "      <th>4</th>\n",
       "      <td>6.773390e+11</td>\n",
       "      <td>2/1/2000</td>\n",
       "      <td>C</td>\n",
       "      <td>Other</td>\n",
       "      <td>7.750</td>\n",
       "      <td>7.750</td>\n",
       "      <td>189000</td>\n",
       "      <td>360</td>\n",
       "      <td>12/1/1999</td>\n",
       "      <td>2/1/2000</td>\n",
       "      <td>...</td>\n",
       "      <td>SF</td>\n",
       "      <td>1</td>\n",
       "      <td>P</td>\n",
       "      <td>IN</td>\n",
       "      <td>29140</td>\n",
       "      <td>479</td>\n",
       "      <td>0</td>\n",
       "      <td>N</td>\n",
       "      <td>False</td>\n",
       "      <td>14</td>\n",
       "    </tr>\n",
       "    <tr>\n",
       "      <th>...</th>\n",
       "      <td>...</td>\n",
       "      <td>...</td>\n",
       "      <td>...</td>\n",
       "      <td>...</td>\n",
       "      <td>...</td>\n",
       "      <td>...</td>\n",
       "      <td>...</td>\n",
       "      <td>...</td>\n",
       "      <td>...</td>\n",
       "      <td>...</td>\n",
       "      <td>...</td>\n",
       "      <td>...</td>\n",
       "      <td>...</td>\n",
       "      <td>...</td>\n",
       "      <td>...</td>\n",
       "      <td>...</td>\n",
       "      <td>...</td>\n",
       "      <td>...</td>\n",
       "      <td>...</td>\n",
       "      <td>...</td>\n",
       "      <td>...</td>\n",
       "    </tr>\n",
       "    <tr>\n",
       "      <th>164570</th>\n",
       "      <td>8.194500e+11</td>\n",
       "      <td>2/1/2000</td>\n",
       "      <td>C</td>\n",
       "      <td>Amtrust Bank</td>\n",
       "      <td>7.875</td>\n",
       "      <td>7.875</td>\n",
       "      <td>106000</td>\n",
       "      <td>180</td>\n",
       "      <td>11/1/1999</td>\n",
       "      <td>1/1/2000</td>\n",
       "      <td>...</td>\n",
       "      <td>SF</td>\n",
       "      <td>1</td>\n",
       "      <td>I</td>\n",
       "      <td>MI</td>\n",
       "      <td>11460</td>\n",
       "      <td>481</td>\n",
       "      <td>0</td>\n",
       "      <td>N</td>\n",
       "      <td>False</td>\n",
       "      <td>24</td>\n",
       "    </tr>\n",
       "    <tr>\n",
       "      <th>164571</th>\n",
       "      <td>6.558220e+11</td>\n",
       "      <td>3/1/2000</td>\n",
       "      <td>R</td>\n",
       "      <td>Jpmorgan Chase Bank, Na</td>\n",
       "      <td>8.000</td>\n",
       "      <td>8.000</td>\n",
       "      <td>144000</td>\n",
       "      <td>180</td>\n",
       "      <td>2/1/2000</td>\n",
       "      <td>4/1/2000</td>\n",
       "      <td>...</td>\n",
       "      <td>SF</td>\n",
       "      <td>1</td>\n",
       "      <td>P</td>\n",
       "      <td>CA</td>\n",
       "      <td>41740</td>\n",
       "      <td>920</td>\n",
       "      <td>0</td>\n",
       "      <td>N</td>\n",
       "      <td>False</td>\n",
       "      <td>19</td>\n",
       "    </tr>\n",
       "    <tr>\n",
       "      <th>164572</th>\n",
       "      <td>6.577330e+11</td>\n",
       "      <td>3/1/2000</td>\n",
       "      <td>R</td>\n",
       "      <td>First Tennessee Bank National Association</td>\n",
       "      <td>8.250</td>\n",
       "      <td>8.250</td>\n",
       "      <td>88000</td>\n",
       "      <td>360</td>\n",
       "      <td>2/1/2000</td>\n",
       "      <td>3/1/2000</td>\n",
       "      <td>...</td>\n",
       "      <td>SF</td>\n",
       "      <td>1</td>\n",
       "      <td>P</td>\n",
       "      <td>WV</td>\n",
       "      <td>26580</td>\n",
       "      <td>255</td>\n",
       "      <td>0</td>\n",
       "      <td>N</td>\n",
       "      <td>False</td>\n",
       "      <td>12</td>\n",
       "    </tr>\n",
       "    <tr>\n",
       "      <th>164573</th>\n",
       "      <td>3.145290e+11</td>\n",
       "      <td>1/1/2000</td>\n",
       "      <td>R</td>\n",
       "      <td>Ge Mortgage Services, Llc</td>\n",
       "      <td>7.875</td>\n",
       "      <td>7.875</td>\n",
       "      <td>99000</td>\n",
       "      <td>240</td>\n",
       "      <td>10/1/1999</td>\n",
       "      <td>12/1/1999</td>\n",
       "      <td>...</td>\n",
       "      <td>SF</td>\n",
       "      <td>1</td>\n",
       "      <td>P</td>\n",
       "      <td>NY</td>\n",
       "      <td>35620</td>\n",
       "      <td>115</td>\n",
       "      <td>0</td>\n",
       "      <td>N</td>\n",
       "      <td>False</td>\n",
       "      <td>217</td>\n",
       "    </tr>\n",
       "    <tr>\n",
       "      <th>164574</th>\n",
       "      <td>8.571750e+11</td>\n",
       "      <td>1/1/2000</td>\n",
       "      <td>R</td>\n",
       "      <td>Rbc Mortgage Company</td>\n",
       "      <td>7.750</td>\n",
       "      <td>7.750</td>\n",
       "      <td>132000</td>\n",
       "      <td>360</td>\n",
       "      <td>12/1/1999</td>\n",
       "      <td>2/1/2000</td>\n",
       "      <td>...</td>\n",
       "      <td>SF</td>\n",
       "      <td>1</td>\n",
       "      <td>S</td>\n",
       "      <td>OR</td>\n",
       "      <td>0</td>\n",
       "      <td>971</td>\n",
       "      <td>0</td>\n",
       "      <td>N</td>\n",
       "      <td>False</td>\n",
       "      <td>35</td>\n",
       "    </tr>\n",
       "  </tbody>\n",
       "</table>\n",
       "<p>164575 rows × 31 columns</p>\n",
       "</div>"
      ],
      "text/plain": [
       "                 LID       MRP CHANNEL  \\\n",
       "0       8.118470e+11  3/1/2000       C   \n",
       "1       9.288980e+11  2/1/2000       C   \n",
       "2       2.229740e+11  1/1/2000       C   \n",
       "3       5.939500e+11  2/1/2000       B   \n",
       "4       6.773390e+11  2/1/2000       C   \n",
       "...              ...       ...     ...   \n",
       "164570  8.194500e+11  2/1/2000       C   \n",
       "164571  6.558220e+11  3/1/2000       R   \n",
       "164572  6.577330e+11  3/1/2000       R   \n",
       "164573  3.145290e+11  1/1/2000       R   \n",
       "164574  8.571750e+11  1/1/2000       R   \n",
       "\n",
       "                                           SELLER  ORATE  CRATE    OUPB  \\\n",
       "0                          Suntrust Mortgage Inc.  8.375  8.375   58000   \n",
       "1                                    Amtrust Bank  7.500  7.500  204000   \n",
       "2                         Jpmorgan Chase Bank, Na  7.750  7.750  181000   \n",
       "3                           Bank Of America, N.A.  8.625  8.625  135000   \n",
       "4                                           Other  7.750  7.750  189000   \n",
       "...                                           ...    ...    ...     ...   \n",
       "164570                               Amtrust Bank  7.875  7.875  106000   \n",
       "164571                    Jpmorgan Chase Bank, Na  8.000  8.000  144000   \n",
       "164572  First Tennessee Bank National Association  8.250  8.250   88000   \n",
       "164573                  Ge Mortgage Services, Llc  7.875  7.875   99000   \n",
       "164574                       Rbc Mortgage Company  7.750  7.750  132000   \n",
       "\n",
       "        OLTERM      ODATE        FPD  ...  PTYPE  NUNITS  OCCSTAT  STATE  \\\n",
       "0          360   7/1/1999   9/1/1999  ...     SF       1        P     OK   \n",
       "1          180  12/1/1999   2/1/2000  ...     SF       1        P     WA   \n",
       "2          360  12/1/1999   2/1/2000  ...     SF       1        P     VA   \n",
       "3          360   1/1/2000   3/1/2000  ...     PU       1        P     AZ   \n",
       "4          360  12/1/1999   2/1/2000  ...     SF       1        P     IN   \n",
       "...        ...        ...        ...  ...    ...     ...      ...    ...   \n",
       "164570     180  11/1/1999   1/1/2000  ...     SF       1        I     MI   \n",
       "164571     180   2/1/2000   4/1/2000  ...     SF       1        P     CA   \n",
       "164572     360   2/1/2000   3/1/2000  ...     SF       1        P     WV   \n",
       "164573     240  10/1/1999  12/1/1999  ...     SF       1        P     NY   \n",
       "164574     360  12/1/1999   2/1/2000  ...     SF       1        S     OR   \n",
       "\n",
       "          MSA  ZIP  CLDS  RMI  FORECLOSED  NMONTHS  \n",
       "0       36420  730     0    N       False       12  \n",
       "1       48300  988     0    N       False       21  \n",
       "2       40060  238     0    N       False       54  \n",
       "3       38060  852     0    N       False       16  \n",
       "4       29140  479     0    N       False       14  \n",
       "...       ...  ...   ...  ...         ...      ...  \n",
       "164570  11460  481     0    N       False       24  \n",
       "164571  41740  920     0    N       False       19  \n",
       "164572  26580  255     0    N       False       12  \n",
       "164573  35620  115     0    N       False      217  \n",
       "164574      0  971     0    N       False       35  \n",
       "\n",
       "[164575 rows x 31 columns]"
      ]
     },
     "execution_count": 16,
     "metadata": {},
     "output_type": "execute_result"
    }
   ],
   "source": [
    "df_train"
   ]
  },
  {
   "cell_type": "code",
   "execution_count": 17,
   "id": "cebae63e",
   "metadata": {},
   "outputs": [],
   "source": [
    "df_train = pd.concat([df_train.iloc[:,0:16],imputed_df,df_train.iloc[:,20:]], axis=1)\n",
    "df_test = pd.concat([df_test.iloc[:,0:16],imputed_df1,df_test.iloc[:,20:]], axis=1)"
   ]
  },
  {
   "cell_type": "code",
   "execution_count": 18,
   "id": "00e119d4",
   "metadata": {},
   "outputs": [
    {
     "data": {
      "text/plain": [
       "LID           0\n",
       "MRP           0\n",
       "CHANNEL       0\n",
       "SELLER        0\n",
       "ORATE         0\n",
       "CRATE         0\n",
       "OUPB          0\n",
       "OLTERM        0\n",
       "ODATE         0\n",
       "FPD           0\n",
       "LA            0\n",
       "TMTLM         0\n",
       "RMTM          0\n",
       "MDATE         0\n",
       "LOTV          0\n",
       "NB            0\n",
       "DTI           0\n",
       "BCSAO         0\n",
       "CBCSAO        0\n",
       "FTHBI         0\n",
       "LP            0\n",
       "PTYPE         0\n",
       "NUNITS        0\n",
       "OCCSTAT       0\n",
       "STATE         0\n",
       "MSA           0\n",
       "ZIP           0\n",
       "CLDS          0\n",
       "RMI           0\n",
       "FORECLOSED    0\n",
       "NMONTHS       0\n",
       "dtype: int64"
      ]
     },
     "execution_count": 18,
     "metadata": {},
     "output_type": "execute_result"
    }
   ],
   "source": [
    "df_train.isnull().sum()"
   ]
  },
  {
   "cell_type": "markdown",
   "id": "5bd75a8d",
   "metadata": {},
   "source": [
    "there are some columns with binary values, lets start with the easiest first, RMI is the only one we need to fix"
   ]
  },
  {
   "cell_type": "code",
   "execution_count": 19,
   "id": "3d1aa372",
   "metadata": {},
   "outputs": [
    {
     "data": {
      "text/plain": [
       "RMI\n",
       "0    162948\n",
       "1      1627\n",
       "Name: RMI, dtype: int64"
      ]
     },
     "execution_count": 19,
     "metadata": {},
     "output_type": "execute_result"
    }
   ],
   "source": [
    "df_train[\"RMI\"] = df_train[\"RMI\"].apply(lambda RMI: 0 if RMI == 'N' else 1)\n",
    "df_test[\"RMI\"] = df_test[\"RMI\"].apply(lambda RMI: 0 if RMI == 'N' else 1)\n",
    "df_train.groupby(['RMI'])['RMI'].count()"
   ]
  },
  {
   "cell_type": "markdown",
   "id": "6bce226d",
   "metadata": {},
   "source": [
    "Then I would like to deal with features with lots of categories : STATES SELLER ODATE FPD, I use the method group by counts\n"
   ]
  },
  {
   "cell_type": "code",
   "execution_count": 20,
   "id": "64198696",
   "metadata": {},
   "outputs": [],
   "source": [
    "encodings = df_train.groupby(['SELLER'])['SELLER'].count().to_dict()\n",
    "df_train['SELLER'] = df_train['SELLER'].map(encodings)\n",
    "encodings = df_test.groupby(['SELLER'])['SELLER'].count().to_dict()\n",
    "df_test['SELLER'] = df_test['SELLER'].map(encodings)"
   ]
  },
  {
   "cell_type": "code",
   "execution_count": 21,
   "id": "213468d7",
   "metadata": {},
   "outputs": [],
   "source": [
    "encodings = df_train.groupby(['STATE'])['STATE'].count().to_dict()\n",
    "df_train['STATE'] = df_train['STATE'].map(encodings)\n",
    "encodings = df_test.groupby(['STATE'])['STATE'].count().to_dict()\n",
    "df_test['STATE'] = df_test['STATE'].map(encodings)"
   ]
  },
  {
   "cell_type": "code",
   "execution_count": 22,
   "id": "cd64c99b",
   "metadata": {},
   "outputs": [],
   "source": [
    "encodings = df_train.groupby(['ODATE'])['ODATE'].count().to_dict()\n",
    "df_train['ODATE'] = df_train['ODATE'].map(encodings)\n",
    "encodings = df_test.groupby(['ODATE'])['ODATE'].count().to_dict()\n",
    "df_test['ODATE'] = df_test['ODATE'].map(encodings)"
   ]
  },
  {
   "cell_type": "code",
   "execution_count": 23,
   "id": "e6fef01f",
   "metadata": {},
   "outputs": [],
   "source": [
    "encodings = df_train.groupby(['FPD'])['FPD'].count().to_dict()\n",
    "df_train['FPD'] = df_train['FPD'].map(encodings)\n",
    "encodings = df_test.groupby(['FPD'])['FPD'].count().to_dict()\n",
    "df_test['FPD'] = df_test['FPD'].map(encodings)"
   ]
  },
  {
   "cell_type": "markdown",
   "id": "d002dcbc",
   "metadata": {},
   "source": [
    "For the rest of the column features, the category is most to be 5, I decide to encode them together using label encoding method instead"
   ]
  },
  {
   "cell_type": "code",
   "execution_count": 24,
   "id": "5248d8d8",
   "metadata": {},
   "outputs": [],
   "source": [
    "other_categorical_cols = ['MRP','CHANNEL','LP','PTYPE','OCCSTAT',\"CLDS\"]\n",
    "for col in df_train.columns:\n",
    "    if col in other_categorical_cols:\n",
    "        a={}\n",
    "        for i in range(len(df_train[col].unique())):\n",
    "            a[df_train[col].unique()[i]]=i\n",
    "        work=df_train[col].map(a)\n",
    "        df_train[col]=work\n",
    "\n",
    "for col in df_test.columns:\n",
    "    if col in other_categorical_cols:\n",
    "        a={}\n",
    "        for i in range(len(df_test[col].unique())):\n",
    "            a[df_test[col].unique()[i]]=i\n",
    "        work=df_test[col].map(a)\n",
    "        df_test[col]=work"
   ]
  },
  {
   "cell_type": "code",
   "execution_count": 25,
   "id": "591b04d8",
   "metadata": {},
   "outputs": [],
   "source": [
    "X_train = df_train.iloc[:,1:-2]\n",
    "X_test = df_test.iloc[:,1:]\n",
    "Y_train = df_train['NMONTHS']\n",
    "Y_train = Y_train.to_numpy()"
   ]
  },
  {
   "cell_type": "code",
   "execution_count": 26,
   "id": "9a44073f",
   "metadata": {},
   "outputs": [],
   "source": [
    "names_train = X_train.columns.values\n",
    "names_test = X_test.columns.values"
   ]
  },
  {
   "cell_type": "markdown",
   "id": "08564a79",
   "metadata": {},
   "source": [
    "Now, I have finished the transformation of data,and already defined the training and testing data. It's time to do a standard scale to \\ \n",
    "make sure there are no such huge data affacting the fitting."
   ]
  },
  {
   "cell_type": "code",
   "execution_count": 27,
   "id": "8a937f4c",
   "metadata": {},
   "outputs": [],
   "source": [
    "from sklearn.preprocessing import StandardScaler\n",
    "ss = StandardScaler()\n",
    "ss.fit(X_train)\n",
    "X_train = ss.transform(X_train)\n",
    "X_train = pd.DataFrame(X_train, columns = names_train )\n",
    "X_test = ss.transform(X_test)\n",
    "X_test = pd.DataFrame(X_test, columns = names_test )"
   ]
  },
  {
   "cell_type": "markdown",
   "id": "4f3e373e",
   "metadata": {},
   "source": [
    "I use the method of pasty first, I split my training set into another training and testing set since we don't have data for testing target. \\\n",
    "It's better to find the best formula to apply to the our tesing set at last."
   ]
  },
  {
   "cell_type": "code",
   "execution_count": 28,
   "id": "2c7b8b01",
   "metadata": {},
   "outputs": [],
   "source": [
    "df_NMONTH = df_train.drop(['FORECLOSED'],axis = 1)"
   ]
  },
  {
   "cell_type": "code",
   "execution_count": 29,
   "id": "f3cbaf53",
   "metadata": {},
   "outputs": [],
   "source": [
    "N=df_NMONTH.shape[0]\n",
    "perm=np.random.permutation(range(N))\n",
    "df_NMONTH=df_NMONTH.loc[perm]\n",
    "Ntrain=int(.8*N)\n",
    "Ntest=N-Ntrain\n",
    "data_train=df_NMONTH.iloc[0:Ntrain]\n",
    "data_test=df_NMONTH.iloc[Ntrain:N]\n",
    "#data_train.astype('object').dtypes\n",
    "#data_test.astype('object').dtypes"
   ]
  },
  {
   "cell_type": "code",
   "execution_count": 30,
   "id": "707b8450",
   "metadata": {},
   "outputs": [
    {
     "name": "stdout",
     "output_type": "stream",
     "text": [
      "19.81978235406377\n",
      "[[0.0000e+00 3.1828e+04 3.6000e+02 0.0000e+00]\n",
      " [2.0000e+00 5.7738e+04 3.6000e+02 0.0000e+00]\n",
      " [2.0000e+00 2.2938e+04 3.5900e+02 1.0000e+00]\n",
      " ...\n",
      " [0.0000e+00 1.3340e+03 3.5500e+02 5.0000e+00]\n",
      " [1.0000e+00 4.0520e+04 3.0000e+02 0.0000e+00]\n",
      " [0.0000e+00 3.1828e+04 1.8000e+02 0.0000e+00]]\n"
     ]
    }
   ],
   "source": [
    "formula = \"NMONTHS~0+MRP+ODATE+TMTLM+LA\"\n",
    "\n",
    "#formula=\"NMONTHS~0+np.log(ORATE)+np.log(NUNITS)+np.log(DTI)+np.log(BCSAO)+np.log(CBCSAO)+np.log(MDATE)+np.log(NB)+np.log(OUPB)\\\n",
    "#+MRP:CHANNEL+SELLER+ORATE*RMTM+OUPB*OLTERM+ODATE:NB+LP+TMTLM:ZIP+MDATE:LOTV+BCSAO:OUPB+CBCSAO:OUPB+LP*OUPB\\\n",
    "#+PTYPE+NUNITS:MSA+OCCSTAT+STATE*ZIP+NB:ORATE+ORATE:MDATE+OUPB:NB+MDATE:NUNITS+NUNITS**2+ZIP:LA+TMTLM**2\"\n",
    "\n",
    "\n",
    "#formula = \"NMONTHS~0+ORATE+CLDS+NUNITS+OCCSTAT+LP+CBCSAO+ZIP+FTHBI+CHANNEL+BCSAO+TMTLM+NB+FPD+OUPB+MSA+OLTERM+MRP+STATE+SELLER+MDATE+DTI+\\\n",
    "#np.log(ORATE)+np.log(NUNITS)+np.log(DTI)+np.log(BCSAO)+np.log(CBCSAO)\"\n",
    "\n",
    "#formula=\"NMONTHS~0+np.log(ORATE)+ORATE+CLDS:LP+np.log(NUNITS)+np.log(FTHBI+LOTV)+OCCSTAT:ORATE+FTHBI*ORATE+LA*LP+PTYPE+np.log(LOTV)\\\n",
    "#+np.log(SELLER)+SELLER:ORATE+MRP:ORATE+CHANNEL*OLTERM+RMTM:LA+LOTV:LP+SELLER:STATE+STATE:LP\"\n",
    "Ytrain,Xtrain=ps.dmatrices(formula,data_train)\n",
    "Ytest,Xtest=ps.dmatrices(formula,data_test)\n",
    "Ntest=Ytest.shape[0]\n",
    "reg= LinearRegression().fit(Xtrain,Ytrain)\n",
    "Ytest_pred=reg.predict(Xtest)\n",
    "e=pd.Series((Ytest-Ytest_pred).reshape((Ntest,)))\n",
    "MAD=e.apply(abs).mean()\n",
    "print(MAD)\n",
    "print(Xtrain)"
   ]
  },
  {
   "cell_type": "markdown",
   "id": "50873667",
   "metadata": {},
   "source": [
    "To predict the X_test, we need first asign an row named NMONTH, and split it by ps function. Any data is ok, since we are not going to use \\\n",
    "this row, we need predict our new NMONTHS by our selected fitting model reg instead."
   ]
  },
  {
   "cell_type": "code",
   "execution_count": 31,
   "id": "fa88f9f5",
   "metadata": {},
   "outputs": [],
   "source": [
    "X_test = X_test.assign(NMONTHS=0)"
   ]
  },
  {
   "cell_type": "code",
   "execution_count": 32,
   "id": "0cd2eba6",
   "metadata": {},
   "outputs": [],
   "source": [
    "Ytest,Xtest=ps.dmatrices(formula,X_test)\n",
    "pred_NMONTHS = reg.predict(Xtest)\n",
    "pred_NMONTHS =  pd.DataFrame(pred_NMONTHS,columns = ['NMONTHS'])\n",
    "df_NMONTHS_pasty = pd.concat([df_test.iloc[:,:1],pred_NMONTHS], axis=1 )"
   ]
  },
  {
   "cell_type": "code",
   "execution_count": 33,
   "id": "fa301b56",
   "metadata": {},
   "outputs": [
    {
     "data": {
      "text/html": [
       "<div>\n",
       "<style scoped>\n",
       "    .dataframe tbody tr th:only-of-type {\n",
       "        vertical-align: middle;\n",
       "    }\n",
       "\n",
       "    .dataframe tbody tr th {\n",
       "        vertical-align: top;\n",
       "    }\n",
       "\n",
       "    .dataframe thead th {\n",
       "        text-align: right;\n",
       "    }\n",
       "</style>\n",
       "<table border=\"1\" class=\"dataframe\">\n",
       "  <thead>\n",
       "    <tr style=\"text-align: right;\">\n",
       "      <th></th>\n",
       "      <th>LID</th>\n",
       "      <th>NMONTHS</th>\n",
       "    </tr>\n",
       "  </thead>\n",
       "  <tbody>\n",
       "    <tr>\n",
       "      <th>0</th>\n",
       "      <td>7.940000e+11</td>\n",
       "      <td>44.514210</td>\n",
       "    </tr>\n",
       "    <tr>\n",
       "      <th>1</th>\n",
       "      <td>2.770000e+11</td>\n",
       "      <td>48.945161</td>\n",
       "    </tr>\n",
       "    <tr>\n",
       "      <th>2</th>\n",
       "      <td>5.070000e+11</td>\n",
       "      <td>49.091432</td>\n",
       "    </tr>\n",
       "    <tr>\n",
       "      <th>3</th>\n",
       "      <td>4.930000e+11</td>\n",
       "      <td>46.256236</td>\n",
       "    </tr>\n",
       "    <tr>\n",
       "      <th>4</th>\n",
       "      <td>8.430000e+11</td>\n",
       "      <td>50.184682</td>\n",
       "    </tr>\n",
       "    <tr>\n",
       "      <th>...</th>\n",
       "      <td>...</td>\n",
       "      <td>...</td>\n",
       "    </tr>\n",
       "    <tr>\n",
       "      <th>82283</th>\n",
       "      <td>6.120000e+11</td>\n",
       "      <td>44.660481</td>\n",
       "    </tr>\n",
       "    <tr>\n",
       "      <th>82284</th>\n",
       "      <td>3.040000e+11</td>\n",
       "      <td>48.945161</td>\n",
       "    </tr>\n",
       "    <tr>\n",
       "      <th>82285</th>\n",
       "      <td>7.180000e+11</td>\n",
       "      <td>44.514210</td>\n",
       "    </tr>\n",
       "    <tr>\n",
       "      <th>82286</th>\n",
       "      <td>6.150000e+11</td>\n",
       "      <td>50.330953</td>\n",
       "    </tr>\n",
       "    <tr>\n",
       "      <th>82287</th>\n",
       "      <td>1.080000e+11</td>\n",
       "      <td>47.349486</td>\n",
       "    </tr>\n",
       "  </tbody>\n",
       "</table>\n",
       "<p>82288 rows × 2 columns</p>\n",
       "</div>"
      ],
      "text/plain": [
       "                LID    NMONTHS\n",
       "0      7.940000e+11  44.514210\n",
       "1      2.770000e+11  48.945161\n",
       "2      5.070000e+11  49.091432\n",
       "3      4.930000e+11  46.256236\n",
       "4      8.430000e+11  50.184682\n",
       "...             ...        ...\n",
       "82283  6.120000e+11  44.660481\n",
       "82284  3.040000e+11  48.945161\n",
       "82285  7.180000e+11  44.514210\n",
       "82286  6.150000e+11  50.330953\n",
       "82287  1.080000e+11  47.349486\n",
       "\n",
       "[82288 rows x 2 columns]"
      ]
     },
     "execution_count": 33,
     "metadata": {},
     "output_type": "execute_result"
    }
   ],
   "source": [
    "df_NMONTHS_pasty"
   ]
  },
  {
   "cell_type": "markdown",
   "id": "f91a56c7",
   "metadata": {},
   "source": [
    "This is the feature importance based on our regression model"
   ]
  },
  {
   "cell_type": "code",
   "execution_count": 34,
   "id": "87df7726",
   "metadata": {},
   "outputs": [
    {
     "name": "stdout",
     "output_type": "stream",
     "text": [
      "Features sorted by their score:\n",
      "[(2.3818227428570062, 'MRP'), (1.8779408311249906, 'ORATE'), (6.013820875703481e-05, 'CHANNEL'), (-0.056293289308045315, 'SELLER')]\n"
     ]
    }
   ],
   "source": [
    "reg.coef = reg.coef_.reshape(-1)\n",
    "print(\"Features sorted by their score:\")\n",
    "print(sorted(zip(map(lambda x: x,reg.coef),names_train), reverse=True))"
   ]
  },
  {
   "cell_type": "markdown",
   "id": "0765ac93",
   "metadata": {},
   "source": [
    "It seems that the pasty method works not really good for our testing set, I'll try something else also. Let's do a KFOLD to see the average \\\n",
    "r2 score first."
   ]
  },
  {
   "cell_type": "code",
   "execution_count": 35,
   "id": "2890ea6d",
   "metadata": {},
   "outputs": [
    {
     "name": "stdout",
     "output_type": "stream",
     "text": [
      "accuracy of each fold - <function r2_score at 0x7ff462b1df70>\n",
      "Avg accuracy : 0.09648129556365055\n"
     ]
    }
   ],
   "source": [
    "from sklearn.model_selection import KFold \n",
    "from sklearn.metrics import accuracy_score\n",
    "from sklearn.metrics import r2_score\n",
    "\n",
    "k = 5\n",
    "kf = KFold(n_splits=k, random_state=None)\n",
    "model = LinearRegression()\n",
    " \n",
    "r2score = []\n",
    " \n",
    "for train_index , test_index in kf.split(df_train):\n",
    "    X_train_train , X_train_test = X_train.iloc[train_index,:],X_train.iloc[test_index,:]\n",
    "    Y_train_train , Y_train_test = Y_train[train_index] , Y_train[test_index]\n",
    "     \n",
    "    model.fit(X_train_train,Y_train_train)\n",
    "    pred_values = model.predict(X_train_test) \n",
    "    r2 = r2_score(Y_train_test,pred_values)\n",
    "    r2score.append(r2)\n",
    "     \n",
    "avg_r2_score = sum(r2score)/k\n",
    " \n",
    "print('accuracy of each fold - {}'.format(r2_score))\n",
    "print('Avg accuracy : {}'.format(avg_r2_score))"
   ]
  },
  {
   "cell_type": "code",
   "execution_count": 36,
   "id": "10ab9136",
   "metadata": {},
   "outputs": [
    {
     "data": {
      "text/plain": [
       "array([24.59523065, 30.44518125, 33.35329477, ...,  6.98627857,\n",
       "       40.23335046, 29.90480268])"
      ]
     },
     "execution_count": 36,
     "metadata": {},
     "output_type": "execute_result"
    }
   ],
   "source": [
    "X_test.drop('NMONTHS',axis = 1,inplace=True)\n",
    "pred_values = model.predict(X_test)\n",
    "pred_values"
   ]
  },
  {
   "cell_type": "code",
   "execution_count": 37,
   "id": "ce712d0f",
   "metadata": {},
   "outputs": [],
   "source": [
    "pred_values = pd.DataFrame(pred_values,columns = ['NMONTHS'])"
   ]
  },
  {
   "cell_type": "code",
   "execution_count": 38,
   "id": "18fe87cf",
   "metadata": {},
   "outputs": [],
   "source": [
    "df_NMONTHS_R = pd.concat([df_test.iloc[:,:1],pred_values], axis=1 )"
   ]
  },
  {
   "cell_type": "code",
   "execution_count": 39,
   "id": "3ec04ec8",
   "metadata": {},
   "outputs": [
    {
     "data": {
      "text/html": [
       "<div>\n",
       "<style scoped>\n",
       "    .dataframe tbody tr th:only-of-type {\n",
       "        vertical-align: middle;\n",
       "    }\n",
       "\n",
       "    .dataframe tbody tr th {\n",
       "        vertical-align: top;\n",
       "    }\n",
       "\n",
       "    .dataframe thead th {\n",
       "        text-align: right;\n",
       "    }\n",
       "</style>\n",
       "<table border=\"1\" class=\"dataframe\">\n",
       "  <thead>\n",
       "    <tr style=\"text-align: right;\">\n",
       "      <th></th>\n",
       "      <th>LID</th>\n",
       "      <th>NMONTHS</th>\n",
       "    </tr>\n",
       "  </thead>\n",
       "  <tbody>\n",
       "    <tr>\n",
       "      <th>0</th>\n",
       "      <td>7.940000e+11</td>\n",
       "      <td>24.595231</td>\n",
       "    </tr>\n",
       "    <tr>\n",
       "      <th>1</th>\n",
       "      <td>2.770000e+11</td>\n",
       "      <td>30.445181</td>\n",
       "    </tr>\n",
       "    <tr>\n",
       "      <th>2</th>\n",
       "      <td>5.070000e+11</td>\n",
       "      <td>33.353295</td>\n",
       "    </tr>\n",
       "    <tr>\n",
       "      <th>3</th>\n",
       "      <td>4.930000e+11</td>\n",
       "      <td>39.377808</td>\n",
       "    </tr>\n",
       "    <tr>\n",
       "      <th>4</th>\n",
       "      <td>8.430000e+11</td>\n",
       "      <td>30.471247</td>\n",
       "    </tr>\n",
       "    <tr>\n",
       "      <th>...</th>\n",
       "      <td>...</td>\n",
       "      <td>...</td>\n",
       "    </tr>\n",
       "    <tr>\n",
       "      <th>82283</th>\n",
       "      <td>6.120000e+11</td>\n",
       "      <td>52.641006</td>\n",
       "    </tr>\n",
       "    <tr>\n",
       "      <th>82284</th>\n",
       "      <td>3.040000e+11</td>\n",
       "      <td>34.143436</td>\n",
       "    </tr>\n",
       "    <tr>\n",
       "      <th>82285</th>\n",
       "      <td>7.180000e+11</td>\n",
       "      <td>6.986279</td>\n",
       "    </tr>\n",
       "    <tr>\n",
       "      <th>82286</th>\n",
       "      <td>6.150000e+11</td>\n",
       "      <td>40.233350</td>\n",
       "    </tr>\n",
       "    <tr>\n",
       "      <th>82287</th>\n",
       "      <td>1.080000e+11</td>\n",
       "      <td>29.904803</td>\n",
       "    </tr>\n",
       "  </tbody>\n",
       "</table>\n",
       "<p>82288 rows × 2 columns</p>\n",
       "</div>"
      ],
      "text/plain": [
       "                LID    NMONTHS\n",
       "0      7.940000e+11  24.595231\n",
       "1      2.770000e+11  30.445181\n",
       "2      5.070000e+11  33.353295\n",
       "3      4.930000e+11  39.377808\n",
       "4      8.430000e+11  30.471247\n",
       "...             ...        ...\n",
       "82283  6.120000e+11  52.641006\n",
       "82284  3.040000e+11  34.143436\n",
       "82285  7.180000e+11   6.986279\n",
       "82286  6.150000e+11  40.233350\n",
       "82287  1.080000e+11  29.904803\n",
       "\n",
       "[82288 rows x 2 columns]"
      ]
     },
     "execution_count": 39,
     "metadata": {},
     "output_type": "execute_result"
    }
   ],
   "source": [
    "df_NMONTHS_R"
   ]
  },
  {
   "cell_type": "code",
   "execution_count": 41,
   "id": "43a02d3d",
   "metadata": {},
   "outputs": [],
   "source": [
    "df_NMONTHS_R.to_csv('PREDS.csv',index = False)"
   ]
  },
  {
   "cell_type": "code",
   "execution_count": null,
   "id": "81a1dfb7",
   "metadata": {},
   "outputs": [],
   "source": []
  }
 ],
 "metadata": {
  "kernelspec": {
   "display_name": "Python 3",
   "language": "python",
   "name": "python3"
  },
  "language_info": {
   "codemirror_mode": {
    "name": "ipython",
    "version": 3
   },
   "file_extension": ".py",
   "mimetype": "text/x-python",
   "name": "python",
   "nbconvert_exporter": "python",
   "pygments_lexer": "ipython3",
   "version": "3.8.8"
  }
 },
 "nbformat": 4,
 "nbformat_minor": 5
}
