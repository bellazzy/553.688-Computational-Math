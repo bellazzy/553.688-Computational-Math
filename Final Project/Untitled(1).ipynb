{
 "cells": [
  {
   "cell_type": "code",
   "execution_count": 1,
   "id": "420fb94b",
   "metadata": {},
   "outputs": [],
   "source": [
    "import pandas as pd\n",
    "import numpy as np\n",
    "import datetime\n",
    "from sklearn.preprocessing import StandardScaler, PolynomialFeatures \n",
    "from sklearn.impute import KNNImputer\n",
    "from sklearn.decomposition import PCA\n",
    "from sklearn.cross_decomposition import PLSRegression\n",
    "from sklearn.model_selection import RepeatedKFold\n",
    "from sklearn.linear_model import LinearRegression,LogisticRegression, Lasso, Ridge, BayesianRidge,ElasticNet\n",
    "import patsy as ps\n",
    "from sklearn.model_selection import KFold "
   ]
  },
  {
   "cell_type": "code",
   "execution_count": null,
   "id": "9218aebf",
   "metadata": {},
   "outputs": [],
   "source": [
    "df_train = pd.read_csv('TRAIN.csv')\n",
    "df_test = pd.read_csv('TEST.csv')\n",
    "df_train"
   ]
  },
  {
   "cell_type": "code",
   "execution_count": null,
   "id": "2c4c7932",
   "metadata": {},
   "outputs": [],
   "source": [
    "df_variable = pd.read_csv('VariablesUsed.csv')\n",
    "df_variable.groupby(['used'])['used'].count()"
   ]
  },
  {
   "cell_type": "code",
   "execution_count": null,
   "id": "68566943",
   "metadata": {},
   "outputs": [],
   "source": [
    "df_train = df_train.drop(['CLTV','MIP','MIT'],axis = 1)\n",
    "df_test = df_test.drop(['CLTV','MIP','MIT'],axis = 1)\n",
    "df_train"
   ]
  },
  {
   "cell_type": "code",
   "execution_count": null,
   "id": "04976ea6",
   "metadata": {},
   "outputs": [],
   "source": [
    "df_train.isnull().sum()"
   ]
  },
  {
   "cell_type": "code",
   "execution_count": null,
   "id": "0a688db0",
   "metadata": {},
   "outputs": [],
   "source": [
    "X_train = df_train.iloc[:,1:-2]\n",
    "X_test = df_test.iloc[:,1:]\n",
    "Y_train = df_train['NMONTHS']\n",
    "Y_train = Y_train.to_numpy()\n",
    "names_train = X_train.columns.values\n",
    "names_test = X_test.columns.values"
   ]
  },
  {
   "cell_type": "code",
   "execution_count": null,
   "id": "67770f07",
   "metadata": {},
   "outputs": [],
   "source": [
    "categorical_cols = ['CHANNEL','SELLER','FTHBI','LP','PTYPE','OCCSTAT','STATE','RMI']"
   ]
  },
  {
   "cell_type": "code",
   "execution_count": null,
   "id": "2fdd264f",
   "metadata": {},
   "outputs": [],
   "source": [
    "for col in X_train.columns:\n",
    "    if col in categorical_cols:\n",
    "        a={}\n",
    "        for i in range(len(X_train[col].unique())):\n",
    "            a[X_train[col].unique()[i]]=i\n",
    "        work=X_train[col].map(a)\n",
    "        X_train[col]=work\n",
    "#encoded = list(X_train.columns)\n",
    "\n",
    "for col in X_test.columns:\n",
    "    if col in categorical_cols:\n",
    "        a={}\n",
    "        for i in range(len(X_test[col].unique())):\n",
    "            a[X_test[col].unique()[i]]=i\n",
    "        work=X_test[col].map(a)\n",
    "        X_test[col]=work\n",
    "#encoded = list(X_test.columns)"
   ]
  },
  {
   "cell_type": "code",
   "execution_count": null,
   "id": "503152cd",
   "metadata": {},
   "outputs": [],
   "source": [
    "Date = ['MRP','ODATE','FPD']\n",
    "for i in Date:\n",
    "    X_train[i]= pd.to_datetime(X_train[i])\n",
    "    X_test[i]= pd.to_datetime(X_test[i])\n",
    "    X_train[i] =(X_train[i]-min(X_train[i])).dt.days\n",
    "    X_test[i] =(X_test[i]-min(X_test[i])).dt.days"
   ]
  },
  {
   "cell_type": "code",
   "execution_count": null,
   "id": "01780af5",
   "metadata": {},
   "outputs": [],
   "source": [
    "X_missing_train = X_train[['LOTV','NB','DTI','BCSAO','CBCSAO','FTHBI']]\n",
    "X_missing_test = X_test[['LOTV','NB','DTI','BCSAO','CBCSAO','FTHBI']]"
   ]
  },
  {
   "cell_type": "code",
   "execution_count": null,
   "id": "a9631020",
   "metadata": {},
   "outputs": [],
   "source": [
    "knn_imputer = KNNImputer(n_neighbors = 2)\n",
    "X_filled_train = knn_imputer.fit_transform(X_missing_train)\n",
    "X_filled_train = pd.DataFrame(X_filled_train,columns = ['LOTV','NB','DTI','BCSAO','CBCSAO','FTHBI'])\n",
    "X_filled_test = knn_imputer.fit_transform(X_missing_test)\n",
    "X_filled_test = pd.DataFrame(X_filled_test,columns = ['LOTV','NB','DTI','BCSAO','CBCSAO','FTHBI'])"
   ]
  },
  {
   "cell_type": "code",
   "execution_count": null,
   "id": "4d164307",
   "metadata": {},
   "outputs": [],
   "source": [
    "train_A = X_train.iloc[:,0:13]\n",
    "train_B = X_train.iloc[:,19:]\n",
    "X_train = pd.concat([train_A,X_filled_train,train_B], axis=1)\n",
    "test_A = X_test.iloc[:,0:13]\n",
    "test_B = X_test.iloc[:,19:]\n",
    "X_test = pd.concat([test_A,X_filled_test,test_B], axis=1)"
   ]
  },
  {
   "cell_type": "code",
   "execution_count": null,
   "id": "fb9330f0",
   "metadata": {},
   "outputs": [],
   "source": [
    "ss = StandardScaler()\n",
    "ss.fit(X_train)\n",
    "X_train = ss.transform(X_train)\n",
    "X_test = ss.transform(X_test)"
   ]
  },
  {
   "cell_type": "code",
   "execution_count": null,
   "id": "0426dcc8",
   "metadata": {},
   "outputs": [],
   "source": [
    "len(np.transpose(X_test))"
   ]
  },
  {
   "cell_type": "code",
   "execution_count": null,
   "id": "540c4783",
   "metadata": {},
   "outputs": [],
   "source": [
    "df_train = pd.DataFrame(X_train, columns = names_train )\n",
    "NMONTH_train = pd.DataFrame(Y_train, columns = ['NMONTH'] )\n",
    "NMONTH_train = NMONTH_train.iloc[:,-1]"
   ]
  },
  {
   "cell_type": "code",
   "execution_count": null,
   "id": "a58b5617",
   "metadata": {},
   "outputs": [],
   "source": [
    "k = 5\n",
    "kf = KFold(n_splits=k, random_state=None)\n",
    "model = LinearRegression()\n",
    " \n",
    "acc_score = []\n",
    " \n",
    "for train_index , test_index in kf.split(df_train):\n",
    "    X_train_train , X_train_test = df_train.iloc[train_index,:],df_train.iloc[test_index,:]\n",
    "    Y_train , Y_test = NMONTH_train[train_index] , NMONTH_train[test_index]\n",
    "     \n",
    "    model.fit(X_train_train,Y_train)\n",
    "    pred_values = model.predict(X_train_test)\n",
    "     \n",
    "    acc = accuracy_score(pred_values , Y_test)\n",
    "    acc_score.append(acc)\n",
    "     \n",
    "avg_acc_score = sum(acc_score)/k\n",
    " \n",
    "print('accuracy of each fold - {}'.format(acc_score))\n",
    "print('Avg accuracy : {}'.format(avg_acc_score))"
   ]
  },
  {
   "cell_type": "code",
   "execution_count": null,
   "id": "a15e071a",
   "metadata": {},
   "outputs": [],
   "source": [
    "Y_train.shape"
   ]
  },
  {
   "cell_type": "markdown",
   "id": "51d7accd",
   "metadata": {},
   "source": [
    "Transformation"
   ]
  },
  {
   "cell_type": "code",
   "execution_count": null,
   "id": "48a7206c",
   "metadata": {},
   "outputs": [],
   "source": [
    "df_train[\"NMONTH\"]=NMONTH_train.NMONTH\n",
    "N=df_train.shape[0]\n",
    "perm=np.random.permutation(range(N))\n",
    "df_train=df_train.loc[perm]\n",
    "Ntrain=int(.8*N)\n",
    "Ntest=N-Ntrain\n",
    "data_train=df_train.iloc[0:Ntrain]\n",
    "data_test=df_train.iloc[Ntrain:N]\n",
    "#data_train.astype('object').dtypes\n",
    "#data_test.astype('object').dtypes"
   ]
  },
  {
   "cell_type": "code",
   "execution_count": null,
   "id": "bdb3c838",
   "metadata": {},
   "outputs": [],
   "source": [
    "formula=\"NMONTH~0+MRP+CHANNEL+SELLER+ORATE+CRATE+OUPB+OLTERM+ODATE+FPD+LA+TMTLM+RMTM+MDATE+LOTV+NB+DTI+BCSAO+CBCSAO+FTHBI+LP+PTYPE+NUNITS+OCCSTAT+STATE+MSA+ZIP+CLDS+RMI\"\n",
    "Ytrain,Xtrain=ps.dmatrices(formula,data_train)\n",
    "Ytest,Xtest=ps.dmatrices(formula,data_test)\n",
    "Ntest=Ytest.shape[0]\n",
    "reg= LinearRegression().fit(Xtrain,Ytrain)\n",
    "Ytest_pred=reg.predict(Xtest)\n",
    "Ytest_pred = np.rint(Ytest_pred)\n",
    "e=pd.Series((Ytest-Ytest_pred).reshape((Ntest,)))\n",
    "MAD=e.apply(abs).mean()\n",
    "print(MAD)\n",
    "print(Xtrain)"
   ]
  },
  {
   "cell_type": "code",
   "execution_count": null,
   "id": "ee707aec",
   "metadata": {
    "scrolled": true
   },
   "outputs": [],
   "source": [
    "reg.coef = reg.coef_.reshape(-1)\n",
    "print(\"Features sorted by their score:\")\n",
    "print(sorted(zip(map(lambda x: x,reg.coef),names_train), reverse=True))"
   ]
  },
  {
   "cell_type": "code",
   "execution_count": null,
   "id": "1b0efffe",
   "metadata": {},
   "outputs": [],
   "source": [
    "from sklearn.metrics import r2_score\n",
    "r2 = r2_score(Ytest, Ytest_pred)\n",
    "print('r2 score for perfect model is', r2)"
   ]
  },
  {
   "cell_type": "code",
   "execution_count": null,
   "id": "b086594a",
   "metadata": {},
   "outputs": [],
   "source": [
    "from sklearn.metrics import accuracy_score\n",
    "print('The Accuracy of prediction for testing set is:', accuracy_score(Ytest, Ytest_pred))"
   ]
  },
  {
   "cell_type": "code",
   "execution_count": null,
   "id": "b302f336",
   "metadata": {},
   "outputs": [],
   "source": []
  }
 ],
 "metadata": {
  "kernelspec": {
   "display_name": "Python 3 (ipykernel)",
   "language": "python",
   "name": "python3"
  },
  "language_info": {
   "codemirror_mode": {
    "name": "ipython",
    "version": 3
   },
   "file_extension": ".py",
   "mimetype": "text/x-python",
   "name": "python",
   "nbconvert_exporter": "python",
   "pygments_lexer": "ipython3",
   "version": "3.9.7"
  }
 },
 "nbformat": 4,
 "nbformat_minor": 5
}
